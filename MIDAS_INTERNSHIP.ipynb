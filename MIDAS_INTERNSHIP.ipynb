{
  "nbformat": 4,
  "nbformat_minor": 0,
  "metadata": {
    "accelerator": "GPU",
    "colab": {
      "name": "MIDAS_INTERNSHIP.ipynb",
      "provenance": []
    },
    "kernelspec": {
      "display_name": "Python 3",
      "name": "python3"
    },
    "language_info": {
      "name": "python"
    },
    "widgets": {
      "application/vnd.jupyter.widget-state+json": {
        "d64fc8725c664a78be4071c8343cd18e": {
          "model_module": "@jupyter-widgets/controls",
          "model_name": "HBoxModel",
          "state": {
            "_dom_classes": [],
            "_model_module": "@jupyter-widgets/controls",
            "_model_module_version": "1.5.0",
            "_model_name": "HBoxModel",
            "_view_count": null,
            "_view_module": "@jupyter-widgets/controls",
            "_view_module_version": "1.5.0",
            "_view_name": "HBoxView",
            "box_style": "",
            "children": [
              "IPY_MODEL_90a47f5b0b854f6a9e49fb4dfde9c23f",
              "IPY_MODEL_2940857bd9fc4b6295932e8823346609"
            ],
            "layout": "IPY_MODEL_bf548d5a211c4e958643cd8b210882cc"
          }
        },
        "90a47f5b0b854f6a9e49fb4dfde9c23f": {
          "model_module": "@jupyter-widgets/controls",
          "model_name": "FloatProgressModel",
          "state": {
            "_dom_classes": [],
            "_model_module": "@jupyter-widgets/controls",
            "_model_module_version": "1.5.0",
            "_model_name": "FloatProgressModel",
            "_view_count": null,
            "_view_module": "@jupyter-widgets/controls",
            "_view_module_version": "1.5.0",
            "_view_name": "ProgressView",
            "bar_style": "success",
            "description": "100%",
            "description_tooltip": null,
            "layout": "IPY_MODEL_6d78a0c2d79a4135bdc1352f80e12499",
            "max": 87306240,
            "min": 0,
            "orientation": "horizontal",
            "style": "IPY_MODEL_2c6a7fd7971d459f9f042d7e925bf349",
            "value": 87306240
          }
        },
        "2940857bd9fc4b6295932e8823346609": {
          "model_module": "@jupyter-widgets/controls",
          "model_name": "HTMLModel",
          "state": {
            "_dom_classes": [],
            "_model_module": "@jupyter-widgets/controls",
            "_model_module_version": "1.5.0",
            "_model_name": "HTMLModel",
            "_view_count": null,
            "_view_module": "@jupyter-widgets/controls",
            "_view_module_version": "1.5.0",
            "_view_name": "HTMLView",
            "description": "",
            "description_tooltip": null,
            "layout": "IPY_MODEL_0e40877667b2443a8efb88ee797c114a",
            "placeholder": "​",
            "style": "IPY_MODEL_83cb7930dd2a43399da29f4c17381b9e",
            "value": " 83.3M/83.3M [19:12&lt;00:00, 75.7kB/s]"
          }
        },
        "bf548d5a211c4e958643cd8b210882cc": {
          "model_module": "@jupyter-widgets/base",
          "model_name": "LayoutModel",
          "state": {
            "_model_module": "@jupyter-widgets/base",
            "_model_module_version": "1.2.0",
            "_model_name": "LayoutModel",
            "_view_count": null,
            "_view_module": "@jupyter-widgets/base",
            "_view_module_version": "1.2.0",
            "_view_name": "LayoutView",
            "align_content": null,
            "align_items": null,
            "align_self": null,
            "border": null,
            "bottom": null,
            "display": null,
            "flex": null,
            "flex_flow": null,
            "grid_area": null,
            "grid_auto_columns": null,
            "grid_auto_flow": null,
            "grid_auto_rows": null,
            "grid_column": null,
            "grid_gap": null,
            "grid_row": null,
            "grid_template_areas": null,
            "grid_template_columns": null,
            "grid_template_rows": null,
            "height": null,
            "justify_content": null,
            "justify_items": null,
            "left": null,
            "margin": null,
            "max_height": null,
            "max_width": null,
            "min_height": null,
            "min_width": null,
            "object_fit": null,
            "object_position": null,
            "order": null,
            "overflow": null,
            "overflow_x": null,
            "overflow_y": null,
            "padding": null,
            "right": null,
            "top": null,
            "visibility": null,
            "width": null
          }
        },
        "6d78a0c2d79a4135bdc1352f80e12499": {
          "model_module": "@jupyter-widgets/base",
          "model_name": "LayoutModel",
          "state": {
            "_model_module": "@jupyter-widgets/base",
            "_model_module_version": "1.2.0",
            "_model_name": "LayoutModel",
            "_view_count": null,
            "_view_module": "@jupyter-widgets/base",
            "_view_module_version": "1.2.0",
            "_view_name": "LayoutView",
            "align_content": null,
            "align_items": null,
            "align_self": null,
            "border": null,
            "bottom": null,
            "display": null,
            "flex": null,
            "flex_flow": null,
            "grid_area": null,
            "grid_auto_columns": null,
            "grid_auto_flow": null,
            "grid_auto_rows": null,
            "grid_column": null,
            "grid_gap": null,
            "grid_row": null,
            "grid_template_areas": null,
            "grid_template_columns": null,
            "grid_template_rows": null,
            "height": null,
            "justify_content": null,
            "justify_items": null,
            "left": null,
            "margin": null,
            "max_height": null,
            "max_width": null,
            "min_height": null,
            "min_width": null,
            "object_fit": null,
            "object_position": null,
            "order": null,
            "overflow": null,
            "overflow_x": null,
            "overflow_y": null,
            "padding": null,
            "right": null,
            "top": null,
            "visibility": null,
            "width": null
          }
        },
        "2c6a7fd7971d459f9f042d7e925bf349": {
          "model_module": "@jupyter-widgets/controls",
          "model_name": "ProgressStyleModel",
          "state": {
            "_model_module": "@jupyter-widgets/controls",
            "_model_module_version": "1.5.0",
            "_model_name": "ProgressStyleModel",
            "_view_count": null,
            "_view_module": "@jupyter-widgets/base",
            "_view_module_version": "1.2.0",
            "_view_name": "StyleView",
            "bar_color": null,
            "description_width": "initial"
          }
        },
        "0e40877667b2443a8efb88ee797c114a": {
          "model_module": "@jupyter-widgets/base",
          "model_name": "LayoutModel",
          "state": {
            "_model_module": "@jupyter-widgets/base",
            "_model_module_version": "1.2.0",
            "_model_name": "LayoutModel",
            "_view_count": null,
            "_view_module": "@jupyter-widgets/base",
            "_view_module_version": "1.2.0",
            "_view_name": "LayoutView",
            "align_content": null,
            "align_items": null,
            "align_self": null,
            "border": null,
            "bottom": null,
            "display": null,
            "flex": null,
            "flex_flow": null,
            "grid_area": null,
            "grid_auto_columns": null,
            "grid_auto_flow": null,
            "grid_auto_rows": null,
            "grid_column": null,
            "grid_gap": null,
            "grid_row": null,
            "grid_template_areas": null,
            "grid_template_columns": null,
            "grid_template_rows": null,
            "height": null,
            "justify_content": null,
            "justify_items": null,
            "left": null,
            "margin": null,
            "max_height": null,
            "max_width": null,
            "min_height": null,
            "min_width": null,
            "object_fit": null,
            "object_position": null,
            "order": null,
            "overflow": null,
            "overflow_x": null,
            "overflow_y": null,
            "padding": null,
            "right": null,
            "top": null,
            "visibility": null,
            "width": null
          }
        },
        "83cb7930dd2a43399da29f4c17381b9e": {
          "model_module": "@jupyter-widgets/controls",
          "model_name": "DescriptionStyleModel",
          "state": {
            "_model_module": "@jupyter-widgets/controls",
            "_model_module_version": "1.5.0",
            "_model_name": "DescriptionStyleModel",
            "_view_count": null,
            "_view_module": "@jupyter-widgets/base",
            "_view_module_version": "1.2.0",
            "_view_name": "StyleView",
            "description_width": ""
          }
        }
      }
    }
  },
  "cells": [
    {
      "cell_type": "code",
      "metadata": {
        "id": "qeyNn-CDWh88"
      },
      "source": [
        "path = '/content/drive/MyDrive/train'"
      ],
      "execution_count": 9,
      "outputs": []
    },
    {
      "cell_type": "code",
      "metadata": {
        "colab": {
          "base_uri": "https://localhost:8080/"
        },
        "id": "E4CjMnqFW04R",
        "outputId": "f946e8b9-7e5b-4091-b44b-33c1f1dd4ddd"
      },
      "source": [
        "!pip install -Uqq fastbook"
      ],
      "execution_count": 10,
      "outputs": [
        {
          "output_type": "stream",
          "text": [
            "\u001b[K     |████████████████████████████████| 727kB 7.6MB/s \n",
            "\u001b[K     |████████████████████████████████| 1.2MB 16.7MB/s \n",
            "\u001b[K     |████████████████████████████████| 51kB 7.4MB/s \n",
            "\u001b[K     |████████████████████████████████| 194kB 26.9MB/s \n",
            "\u001b[K     |████████████████████████████████| 51kB 7.9MB/s \n",
            "\u001b[K     |████████████████████████████████| 61kB 9.0MB/s \n",
            "\u001b[K     |████████████████████████████████| 776.8MB 23kB/s \n",
            "\u001b[K     |████████████████████████████████| 12.8MB 243kB/s \n",
            "\u001b[31mERROR: torchtext 0.9.1 has requirement torch==1.8.1, but you'll have torch 1.7.1 which is incompatible.\u001b[0m\n",
            "\u001b[?25h"
          ],
          "name": "stdout"
        }
      ]
    },
    {
      "cell_type": "code",
      "metadata": {
        "colab": {
          "base_uri": "https://localhost:8080/"
        },
        "id": "MYhs9WdEW525",
        "outputId": "d8d0e2f3-2e81-42b7-e0f5-0bb081069cfc"
      },
      "source": [
        "import fastbook\n",
        "# fastbook.setup_book()\n",
        "\n",
        "from google.colab import drive\n",
        "drive.mount('/content/drive')"
      ],
      "execution_count": 11,
      "outputs": [
        {
          "output_type": "stream",
          "text": [
            "Drive already mounted at /content/drive; to attempt to forcibly remount, call drive.mount(\"/content/drive\", force_remount=True).\n"
          ],
          "name": "stdout"
        }
      ]
    },
    {
      "cell_type": "code",
      "metadata": {
        "id": "tdP5_6YgXdyP"
      },
      "source": [
        "#necessary imports to work with fastai\n",
        "from fastbook import *\n",
        "from fastai.vision.widgets import *\n",
        "from matplotlib import pyplot\n",
        "from matplotlib.image import imread\n",
        "import pandas as pd\n",
        "\n",
        "from fastai.vision.all import *\n",
        "from fastbook import *\n",
        "\n",
        "matplotlib.rc('image', cmap='Greys')"
      ],
      "execution_count": 12,
      "outputs": []
    },
    {
      "cell_type": "code",
      "metadata": {
        "id": "nO1Y__baXkNP"
      },
      "source": [
        "\"\"\"\n",
        "This fastai DataBlock is used to create our own custom dataset, this has some cool features which helps in reducing the redundancy while creating dataset.\n",
        "blocks are tuple of (dependent, independent) variables which generally means our image and the label.\n",
        "get_image_files : gets the files from the path\n",
        "splitter function splits the dataset into validation set and training set.\n",
        "get_y : this is nice features it makes the label as the parent folder name(I used one script to make the folder names the corresponding datalabels)\n",
        "item_tfms : used to transform the images\n",
        "aug_tranforms : used for augmentations, fastai helps in maintaining the quality of the image.\n",
        "\"\"\"\n",
        "AlphaNumeric = DataBlock(\n",
        "    blocks=(ImageBlock, CategoryBlock), \n",
        "    get_items=get_image_files, \n",
        "    splitter=RandomSplitter(valid_pct=0.2, seed=42),\n",
        "    get_y=parent_label,\n",
        "    item_tfms=Resize(460),\n",
        "    batch_tfms=aug_transforms(size=224, min_scale=0.75)\n",
        ")"
      ],
      "execution_count": null,
      "outputs": []
    },
    {
      "cell_type": "code",
      "metadata": {
        "id": "b1EdJmFfZVR5"
      },
      "source": [
        "dls = AlphaNumeric.dataloaders(path)"
      ],
      "execution_count": null,
      "outputs": []
    },
    {
      "cell_type": "code",
      "metadata": {
        "id": "uom9eB-sW9AV"
      },
      "source": [
        "x,y = dls.one_batch()"
      ],
      "execution_count": null,
      "outputs": []
    },
    {
      "cell_type": "code",
      "metadata": {
        "colab": {
          "base_uri": "https://localhost:8080/"
        },
        "id": "anZ4Z83PdV9e",
        "outputId": "96bd5d69-f1be-47a4-c407-8ab2edfefb08"
      },
      "source": [
        "#this shows the different category available\n",
        "dls.vocab"
      ],
      "execution_count": null,
      "outputs": [
        {
          "output_type": "execute_result",
          "data": {
            "text/plain": [
              "['00', '01', '02', '03', '04', '05', '06', '07', '08', '09', 'A', 'B', 'C', 'D', 'E', 'F', 'G', 'H', 'I', 'J', 'K', 'L', 'M', 'N', 'O', 'P', 'Q', 'R', 'S', 'T', 'U', 'V', 'W', 'X', 'Y', 'Z', 'small_a', 'small_b', 'small_c', 'small_d', 'small_e', 'small_f', 'small_g', 'small_h', 'small_i', 'small_j', 'small_k', 'small_l', 'small_m', 'small_n', 'small_o', 'small_p', 'small_q', 'small_r', 'small_s', 'small_t', 'small_u', 'small_v', 'small_w', 'small_x', 'small_y', 'small_z']"
            ]
          },
          "metadata": {
            "tags": []
          },
          "execution_count": 9
        }
      ]
    },
    {
      "cell_type": "code",
      "metadata": {
        "colab": {
          "base_uri": "https://localhost:8080/",
          "height": 537
        },
        "id": "81Q5mlQvdqjg",
        "outputId": "7bdb7d44-4108-44e9-8632-910af97fda22"
      },
      "source": [
        "#this shows one batch selected\n",
        "dls.show_batch()"
      ],
      "execution_count": null,
      "outputs": [
        {
          "output_type": "display_data",
          "data": {
            "image/png": "[encoded data removed]",
            "text/plain": [
              "<Figure size 648x648 with 9 Axes>"
            ]
          },
          "metadata": {
            "tags": []
          }
        }
      ]
    },
    {
      "cell_type": "markdown",
      "metadata": {
        "id": "BIxZMQ_CgRlO"
      },
      "source": [
        "USING PRETRAINED MODEL FOR LATTER COMPARISON"
      ]
    },
    {
      "cell_type": "code",
      "metadata": {
        "colab": {
          "base_uri": "https://localhost:8080/",
          "height": 475,
          "referenced_widgets": [
            "d64fc8725c664a78be4071c8343cd18e",
            "90a47f5b0b854f6a9e49fb4dfde9c23f",
            "2940857bd9fc4b6295932e8823346609",
            "bf548d5a211c4e958643cd8b210882cc",
            "6d78a0c2d79a4135bdc1352f80e12499",
            "2c6a7fd7971d459f9f042d7e925bf349",
            "0e40877667b2443a8efb88ee797c114a",
            "83cb7930dd2a43399da29f4c17381b9e"
          ]
        },
        "id": "J2ZyUyI5d05o",
        "outputId": "6e6380a1-29b2-4253-bd12-fcb232cf2d6d"
      },
      "source": [
        "learn = cnn_learner(dls, resnet34, metrics=accuracy)\n",
        "learn.fine_tune(10)"
      ],
      "execution_count": null,
      "outputs": [
        {
          "output_type": "stream",
          "text": [
            "Downloading: \"https://download.pytorch.org/models/resnet34-333f7ec4.pth\" to /root/.cache/torch/hub/checkpoints/resnet34-333f7ec4.pth\n"
          ],
          "name": "stderr"
        },
        {
          "output_type": "display_data",
          "data": {
            "application/vnd.jupyter.widget-view+json": {
              "model_id": "d64fc8725c664a78be4071c8343cd18e",
              "version_major": 2,
              "version_minor": 0
            },
            "text/plain": [
              "HBox(children=(FloatProgress(value=0.0, max=87306240.0), HTML(value='')))"
            ]
          },
          "metadata": {
            "tags": []
          }
        },
        {
          "output_type": "stream",
          "text": [
            "\n"
          ],
          "name": "stdout"
        },
        {
          "output_type": "display_data",
          "data": {
            "text/html": [
              "<table border=\"1\" class=\"dataframe\">\n",
              "  <thead>\n",
              "    <tr style=\"text-align: left;\">\n",
              "      <th>epoch</th>\n",
              "      <th>train_loss</th>\n",
              "      <th>valid_loss</th>\n",
              "      <th>accuracy</th>\n",
              "      <th>time</th>\n",
              "    </tr>\n",
              "  </thead>\n",
              "  <tbody>\n",
              "    <tr>\n",
              "      <td>0</td>\n",
              "      <td>4.499744</td>\n",
              "      <td>2.444328</td>\n",
              "      <td>0.370968</td>\n",
              "      <td>14:31</td>\n",
              "    </tr>\n",
              "  </tbody>\n",
              "</table>"
            ],
            "text/plain": [
              "<IPython.core.display.HTML object>"
            ]
          },
          "metadata": {
            "tags": []
          }
        },
        {
          "output_type": "display_data",
          "data": {
            "text/html": [
              "<table border=\"1\" class=\"dataframe\">\n",
              "  <thead>\n",
              "    <tr style=\"text-align: left;\">\n",
              "      <th>epoch</th>\n",
              "      <th>train_loss</th>\n",
              "      <th>valid_loss</th>\n",
              "      <th>accuracy</th>\n",
              "      <th>time</th>\n",
              "    </tr>\n",
              "  </thead>\n",
              "  <tbody>\n",
              "    <tr>\n",
              "      <td>0</td>\n",
              "      <td>2.150230</td>\n",
              "      <td>1.144368</td>\n",
              "      <td>0.685484</td>\n",
              "      <td>19:10</td>\n",
              "    </tr>\n",
              "    <tr>\n",
              "      <td>1</td>\n",
              "      <td>1.668279</td>\n",
              "      <td>0.743318</td>\n",
              "      <td>0.774194</td>\n",
              "      <td>18:56</td>\n",
              "    </tr>\n",
              "    <tr>\n",
              "      <td>2</td>\n",
              "      <td>1.317132</td>\n",
              "      <td>0.680505</td>\n",
              "      <td>0.794355</td>\n",
              "      <td>19:00</td>\n",
              "    </tr>\n",
              "    <tr>\n",
              "      <td>3</td>\n",
              "      <td>1.074530</td>\n",
              "      <td>0.525246</td>\n",
              "      <td>0.826613</td>\n",
              "      <td>19:04</td>\n",
              "    </tr>\n",
              "    <tr>\n",
              "      <td>4</td>\n",
              "      <td>0.866236</td>\n",
              "      <td>0.540568</td>\n",
              "      <td>0.842742</td>\n",
              "      <td>19:03</td>\n",
              "    </tr>\n",
              "    <tr>\n",
              "      <td>5</td>\n",
              "      <td>0.690946</td>\n",
              "      <td>0.458485</td>\n",
              "      <td>0.844758</td>\n",
              "      <td>19:04</td>\n",
              "    </tr>\n",
              "    <tr>\n",
              "      <td>6</td>\n",
              "      <td>0.578833</td>\n",
              "      <td>0.485659</td>\n",
              "      <td>0.856855</td>\n",
              "      <td>19:03</td>\n",
              "    </tr>\n",
              "    <tr>\n",
              "      <td>7</td>\n",
              "      <td>0.490123</td>\n",
              "      <td>0.446151</td>\n",
              "      <td>0.864919</td>\n",
              "      <td>18:59</td>\n",
              "    </tr>\n",
              "    <tr>\n",
              "      <td>8</td>\n",
              "      <td>0.421423</td>\n",
              "      <td>0.430002</td>\n",
              "      <td>0.864919</td>\n",
              "      <td>18:59</td>\n",
              "    </tr>\n",
              "    <tr>\n",
              "      <td>9</td>\n",
              "      <td>0.365451</td>\n",
              "      <td>0.424381</td>\n",
              "      <td>0.870968</td>\n",
              "      <td>19:04</td>\n",
              "    </tr>\n",
              "  </tbody>\n",
              "</table>"
            ],
            "text/plain": [
              "<IPython.core.display.HTML object>"
            ]
          },
          "metadata": {
            "tags": []
          }
        }
      ]
    },
    {
      "cell_type": "code",
      "metadata": {
        "id": "vC3WSbjZa4FR"
      },
      "source": [
        "#we could see that the learner got 87% accuracy for 10 epochs, behind the scene this one learner is using cross-entropy loss\n",
        "#plus there is adaptive learning rate calculator which goes down at each iteration.\n",
        "#we used this pre-trained classifier to compare with the model we will build."
      ],
      "execution_count": null,
      "outputs": []
    },
    {
      "cell_type": "code",
      "metadata": {
        "id": "W9DA3xvheF16"
      },
      "source": [
        "#In 2015 the researcher Leslie Smith came up with a brilliant idea, called the learning rate finder\n",
        "#we can use that too to find the optimum learning rate for our classifier.\n",
        "#lr_min,lr_steep = learn.lr_find()\n",
        "\n",
        "#As seen in https://arxiv.org/abs/1411.1792, this paper explains that why we should use a lower learning rate for the early layers of the neural network, and a higher learning rate for the later layers. \n",
        "#If we look at the layers the first few layers detect's small details like the edges/pattern etc while the last layers learn objects like cars etc. Called : discriminative learning rates. \n",
        "#We can pass the learning rate as a slice which means slice(a,b) a lr is used for earlier layers while b is used for latter layers. \n",
        "#learn.fit_one_cycle(12, lr_max=slice(1e-6,1e-4))"
      ],
      "execution_count": null,
      "outputs": []
    },
    {
      "cell_type": "code",
      "metadata": {
        "id": "KQomCLS3e7C3"
      },
      "source": [
        "#learn.recorder.plot_loss() can be used to plot the loss of train and validation set we can check what the data is performing if it's overfitting or underfitting.\n",
        "# We can pass freeze_epochs to tell fastai how many epochs to train for while frozen. It will automatically change learning rates appropriately for most datasets..\n",
        "# half-precision floating point, helps in memory efficiency using GPU's.\n",
        "\n",
        "# from fastai.callback.fp16 import *\n",
        "# learn = cnn_learner(dls, resnet50, metrics=error_rate).to_fp16()\n",
        "# learn.fine_tune(6, freeze_epochs=3)"
      ],
      "execution_count": null,
      "outputs": []
    },
    {
      "cell_type": "markdown",
      "metadata": {
        "id": "MT_QERZyfwjL"
      },
      "source": [
        "USING CUSTOM MODELS USING FASTAI"
      ]
    },
    {
      "cell_type": "code",
      "metadata": {
        "id": "xqAhrYvMjp8I"
      },
      "source": [
        "# NOTE TO SELF : PurePath subclass that can make system calls. os.something one's\n",
        "# Path\n",
        "# from nbdev.showdoc import * test modules like assertions etc"
      ],
      "execution_count": null,
      "outputs": []
    },
    {
      "cell_type": "markdown",
      "metadata": {
        "id": "shIErjBMLhU5"
      },
      "source": [
        "MODEL : ResNet18"
      ]
    },
    {
      "cell_type": "code",
      "metadata": {
        "colab": {
          "base_uri": "https://localhost:8080/",
          "height": 348
        },
        "id": "u0klKo7PLpx3",
        "outputId": "c2a7ee53-e603-47d2-c193-265e034e6773"
      },
      "source": [
        "body = create_body(resnet18, pretrained=False)\n",
        "head = create_head(nf=512,n_out=62)\n",
        "model = nn.Sequential(body,head)\n",
        "\n",
        "# metr = [accuracy]\n",
        "learn = Learner(dls, model, loss_func=CrossEntropyLossFlat(),metrics=accuracy)\n",
        "\n",
        "#let's run for 10 epochs\n",
        "learn.fit_one_cycle(10)"
      ],
      "execution_count": null,
      "outputs": [
        {
          "output_type": "display_data",
          "data": {
            "text/html": [
              "<table border=\"1\" class=\"dataframe\">\n",
              "  <thead>\n",
              "    <tr style=\"text-align: left;\">\n",
              "      <th>epoch</th>\n",
              "      <th>train_loss</th>\n",
              "      <th>valid_loss</th>\n",
              "      <th>accuracy</th>\n",
              "      <th>time</th>\n",
              "    </tr>\n",
              "  </thead>\n",
              "  <tbody>\n",
              "    <tr>\n",
              "      <td>0</td>\n",
              "      <td>4.258596</td>\n",
              "      <td>5.186469</td>\n",
              "      <td>0.022177</td>\n",
              "      <td>00:45</td>\n",
              "    </tr>\n",
              "    <tr>\n",
              "      <td>1</td>\n",
              "      <td>3.956212</td>\n",
              "      <td>11.648857</td>\n",
              "      <td>0.028226</td>\n",
              "      <td>00:45</td>\n",
              "    </tr>\n",
              "    <tr>\n",
              "      <td>2</td>\n",
              "      <td>3.441362</td>\n",
              "      <td>5.675519</td>\n",
              "      <td>0.074597</td>\n",
              "      <td>00:45</td>\n",
              "    </tr>\n",
              "    <tr>\n",
              "      <td>3</td>\n",
              "      <td>2.853098</td>\n",
              "      <td>2.049060</td>\n",
              "      <td>0.372984</td>\n",
              "      <td>00:44</td>\n",
              "    </tr>\n",
              "    <tr>\n",
              "      <td>4</td>\n",
              "      <td>2.336695</td>\n",
              "      <td>2.924549</td>\n",
              "      <td>0.250000</td>\n",
              "      <td>00:45</td>\n",
              "    </tr>\n",
              "    <tr>\n",
              "      <td>5</td>\n",
              "      <td>1.935734</td>\n",
              "      <td>1.438203</td>\n",
              "      <td>0.586694</td>\n",
              "      <td>00:45</td>\n",
              "    </tr>\n",
              "    <tr>\n",
              "      <td>6</td>\n",
              "      <td>1.603912</td>\n",
              "      <td>1.158514</td>\n",
              "      <td>0.655242</td>\n",
              "      <td>00:45</td>\n",
              "    </tr>\n",
              "    <tr>\n",
              "      <td>7</td>\n",
              "      <td>1.361868</td>\n",
              "      <td>1.118893</td>\n",
              "      <td>0.679435</td>\n",
              "      <td>00:45</td>\n",
              "    </tr>\n",
              "    <tr>\n",
              "      <td>8</td>\n",
              "      <td>1.194687</td>\n",
              "      <td>0.876466</td>\n",
              "      <td>0.756048</td>\n",
              "      <td>00:45</td>\n",
              "    </tr>\n",
              "    <tr>\n",
              "      <td>9</td>\n",
              "      <td>1.073751</td>\n",
              "      <td>0.851849</td>\n",
              "      <td>0.772177</td>\n",
              "      <td>00:45</td>\n",
              "    </tr>\n",
              "  </tbody>\n",
              "</table>"
            ],
            "text/plain": [
              "<IPython.core.display.HTML object>"
            ]
          },
          "metadata": {
            "tags": []
          }
        }
      ]
    },
    {
      "cell_type": "code",
      "metadata": {
        "colab": {
          "base_uri": "https://localhost:8080/",
          "height": 271
        },
        "id": "FHF5GrdmMuow",
        "outputId": "1a2d8630-7367-4bd0-a2d9-32a1665bf429"
      },
      "source": [
        "\n",
        "plt.plot(L(learn.recorder.values).itemgot(2));"
      ],
      "execution_count": null,
      "outputs": [
        {
          "output_type": "display_data",
          "data": {
            "image/png": "[encoded data removed]",
            "text/plain": [
              "<Figure size 432x288 with 1 Axes>"
            ]
          },
          "metadata": {
            "tags": []
          }
        }
      ]
    },
    {
      "cell_type": "code",
      "metadata": {
        "id": "5viuMxZQSQ6u"
      },
      "source": [
        "#we could see there was some imbalance here!"
      ],
      "execution_count": null,
      "outputs": []
    },
    {
      "cell_type": "code",
      "metadata": {
        "colab": {
          "base_uri": "https://localhost:8080/",
          "height": 1000
        },
        "id": "1GvGkVQ6RgNH",
        "outputId": "89fb7687-d400-428f-c811-7eca03941d8a"
      },
      "source": [
        "interp = ClassificationInterpretation.from_learner(learn)\n",
        "interp.plot_confusion_matrix(figsize=(30,30), dpi=60)\n"
      ],
      "execution_count": null,
      "outputs": [
        {
          "output_type": "display_data",
          "data": {
            "text/html": [
              ""
            ],
            "text/plain": [
              "<IPython.core.display.HTML object>"
            ]
          },
          "metadata": {
            "tags": []
          }
        },
        {
          "output_type": "display_data",
          "data": {
            "image/png": "[encoded data removed]",
            "text/plain": [
              "<Figure size 1800x1800 with 1 Axes>"
            ]
          },
          "metadata": {
            "tags": []
          }
        }
      ]
    },
    {
      "cell_type": "code",
      "metadata": {
        "id": "UsMyaXGUR8Ch"
      },
      "source": [
        "#confusion matrix helps us in checking the model performance : we can look at the classified values where it was wrong, where it performed."
      ],
      "execution_count": null,
      "outputs": []
    },
    {
      "cell_type": "code",
      "metadata": {
        "colab": {
          "base_uri": "https://localhost:8080/",
          "height": 309
        },
        "id": "gqazGuNzSrQW",
        "outputId": "00559c89-2215-4e4e-88e3-63ade3d233bd"
      },
      "source": [
        "#now let's try our learn_rate finder, checking if it performs well or it's same for now.\n",
        "learn.lr_find()"
      ],
      "execution_count": null,
      "outputs": [
        {
          "output_type": "display_data",
          "data": {
            "text/html": [
              ""
            ],
            "text/plain": [
              "<IPython.core.display.HTML object>"
            ]
          },
          "metadata": {
            "tags": []
          }
        },
        {
          "output_type": "execute_result",
          "data": {
            "text/plain": [
              "SuggestedLRs(lr_min=9.12010818865383e-08, lr_steep=6.309573450380412e-07)"
            ]
          },
          "metadata": {
            "tags": []
          },
          "execution_count": 26
        },
        {
          "output_type": "display_data",
          "data": {
            "image/png": "[encoded data removed]",
            "text/plain": [
              "<Figure size 432x288 with 1 Axes>"
            ]
          },
          "metadata": {
            "tags": []
          }
        }
      ]
    },
    {
      "cell_type": "code",
      "metadata": {
        "colab": {
          "base_uri": "https://localhost:8080/",
          "height": 348
        },
        "id": "bNL-b4HqS70E",
        "outputId": "cd81fcbe-09b6-459f-b58d-84e6e6a54382"
      },
      "source": [
        "learn = Learner(dls, model, loss_func=CrossEntropyLossFlat(),metrics=accuracy)\n",
        "learn.fit_one_cycle(10,9e-7)"
      ],
      "execution_count": null,
      "outputs": [
        {
          "output_type": "display_data",
          "data": {
            "text/html": [
              "<table border=\"1\" class=\"dataframe\">\n",
              "  <thead>\n",
              "    <tr style=\"text-align: left;\">\n",
              "      <th>epoch</th>\n",
              "      <th>train_loss</th>\n",
              "      <th>valid_loss</th>\n",
              "      <th>accuracy</th>\n",
              "      <th>time</th>\n",
              "    </tr>\n",
              "  </thead>\n",
              "  <tbody>\n",
              "    <tr>\n",
              "      <td>0</td>\n",
              "      <td>0.962513</td>\n",
              "      <td>0.844371</td>\n",
              "      <td>0.776210</td>\n",
              "      <td>00:51</td>\n",
              "    </tr>\n",
              "    <tr>\n",
              "      <td>1</td>\n",
              "      <td>0.939199</td>\n",
              "      <td>0.833361</td>\n",
              "      <td>0.782258</td>\n",
              "      <td>00:51</td>\n",
              "    </tr>\n",
              "    <tr>\n",
              "      <td>2</td>\n",
              "      <td>0.955941</td>\n",
              "      <td>0.826649</td>\n",
              "      <td>0.784274</td>\n",
              "      <td>00:52</td>\n",
              "    </tr>\n",
              "    <tr>\n",
              "      <td>3</td>\n",
              "      <td>0.959253</td>\n",
              "      <td>0.818357</td>\n",
              "      <td>0.786290</td>\n",
              "      <td>00:50</td>\n",
              "    </tr>\n",
              "    <tr>\n",
              "      <td>4</td>\n",
              "      <td>0.953352</td>\n",
              "      <td>0.815351</td>\n",
              "      <td>0.788306</td>\n",
              "      <td>00:58</td>\n",
              "    </tr>\n",
              "    <tr>\n",
              "      <td>5</td>\n",
              "      <td>0.946254</td>\n",
              "      <td>0.830586</td>\n",
              "      <td>0.780242</td>\n",
              "      <td>00:52</td>\n",
              "    </tr>\n",
              "    <tr>\n",
              "      <td>6</td>\n",
              "      <td>0.942294</td>\n",
              "      <td>0.822389</td>\n",
              "      <td>0.782258</td>\n",
              "      <td>00:57</td>\n",
              "    </tr>\n",
              "    <tr>\n",
              "      <td>7</td>\n",
              "      <td>0.941694</td>\n",
              "      <td>0.820665</td>\n",
              "      <td>0.786290</td>\n",
              "      <td>00:52</td>\n",
              "    </tr>\n",
              "    <tr>\n",
              "      <td>8</td>\n",
              "      <td>0.939083</td>\n",
              "      <td>0.819932</td>\n",
              "      <td>0.786290</td>\n",
              "      <td>00:52</td>\n",
              "    </tr>\n",
              "    <tr>\n",
              "      <td>9</td>\n",
              "      <td>0.937373</td>\n",
              "      <td>0.818628</td>\n",
              "      <td>0.784274</td>\n",
              "      <td>00:57</td>\n",
              "    </tr>\n",
              "  </tbody>\n",
              "</table>"
            ],
            "text/plain": [
              "<IPython.core.display.HTML object>"
            ]
          },
          "metadata": {
            "tags": []
          }
        }
      ]
    },
    {
      "cell_type": "code",
      "metadata": {
        "id": "4vJ21lV3VLcQ"
      },
      "source": [
        "#we could see the some imbalance here.\n",
        "# nice explaination why this works : https://www.jeremyjordan.me/nn-learning-rate/"
      ],
      "execution_count": null,
      "outputs": []
    },
    {
      "cell_type": "code",
      "metadata": {
        "colab": {
          "base_uri": "https://localhost:8080/",
          "height": 268
        },
        "id": "BGyKAHxeYZ5i",
        "outputId": "fc117e3c-b277-4d6e-80c9-15bbb270b7e3"
      },
      "source": [
        "plt.plot(L(learn.recorder.values).itemgot(2));\n"
      ],
      "execution_count": null,
      "outputs": [
        {
          "output_type": "display_data",
          "data": {
            "image/png": "[encoded data removed]",
            "text/plain": [
              "<Figure size 432x288 with 1 Axes>"
            ]
          },
          "metadata": {
            "tags": []
          }
        }
      ]
    },
    {
      "cell_type": "code",
      "metadata": {
        "colab": {
          "base_uri": "https://localhost:8080/",
          "height": 306
        },
        "id": "0A2QBSUSYyp0",
        "outputId": "92158cb2-ddd2-48d4-b980-2e44280507dc"
      },
      "source": [
        "learn.lr_find()"
      ],
      "execution_count": null,
      "outputs": [
        {
          "output_type": "display_data",
          "data": {
            "text/html": [
              ""
            ],
            "text/plain": [
              "<IPython.core.display.HTML object>"
            ]
          },
          "metadata": {
            "tags": []
          }
        },
        {
          "output_type": "execute_result",
          "data": {
            "text/plain": [
              "SuggestedLRs(lr_min=2.290867705596611e-05, lr_steep=1.5848931980144698e-06)"
            ]
          },
          "metadata": {
            "tags": []
          },
          "execution_count": 33
        },
        {
          "output_type": "display_data",
          "data": {
            "image/png": "[encoded data removed]",
            "text/plain": [
              "<Figure size 432x288 with 1 Axes>"
            ]
          },
          "metadata": {
            "tags": []
          }
        }
      ]
    },
    {
      "cell_type": "code",
      "metadata": {
        "id": "lWYr-Wo1Y8Dl"
      },
      "source": [
        "#PAPER : https://arxiv.org/pdf/1812.01187.pdf tweaks in CNN's"
      ],
      "execution_count": null,
      "outputs": []
    },
    {
      "cell_type": "code",
      "metadata": {
        "colab": {
          "base_uri": "https://localhost:8080/",
          "height": 1000
        },
        "id": "YXHEY6s9bCR2",
        "outputId": "dab9e4fa-c833-4a73-c549-95f4ef91bf5f"
      },
      "source": [
        "interp = ClassificationInterpretation.from_learner(learn)\n",
        "interp.plot_confusion_matrix(figsize=(30,30), dpi=60)"
      ],
      "execution_count": null,
      "outputs": [
        {
          "output_type": "display_data",
          "data": {
            "text/html": [
              ""
            ],
            "text/plain": [
              "<IPython.core.display.HTML object>"
            ]
          },
          "metadata": {
            "tags": []
          }
        },
        {
          "output_type": "display_data",
          "data": {
            "image/png": "[encoded data removed]",
            "text/plain": [
              "<Figure size 1800x1800 with 1 Axes>"
            ]
          },
          "metadata": {
            "tags": []
          }
        }
      ]
    },
    {
      "cell_type": "markdown",
      "metadata": {
        "id": "e5cd6S3UkrBL"
      },
      "source": [
        "MODEL : ResNet50"
      ]
    },
    {
      "cell_type": "code",
      "metadata": {
        "colab": {
          "base_uri": "https://localhost:8080/"
        },
        "id": "R2vrx_cLlh-N",
        "outputId": "4f8611c8-e4b2-43f9-8b76-2c078ea8c55a"
      },
      "source": [
        "model = models.resnet50(pretrained=False)\n",
        "model"
      ],
      "execution_count": null,
      "outputs": [
        {
          "output_type": "execute_result",
          "data": {
            "text/plain": [
              "ResNet(\n",
              "  (conv1): Conv2d(3, 64, kernel_size=(7, 7), stride=(2, 2), padding=(3, 3), bias=False)\n",
              "  (bn1): BatchNorm2d(64, eps=1e-05, momentum=0.1, affine=True, track_running_stats=True)\n",
              "  (relu): ReLU(inplace=True)\n",
              "  (maxpool): MaxPool2d(kernel_size=3, stride=2, padding=1, dilation=1, ceil_mode=False)\n",
              "  (layer1): Sequential(\n",
              "    (0): Bottleneck(\n",
              "      (conv1): Conv2d(64, 64, kernel_size=(1, 1), stride=(1, 1), bias=False)\n",
              "      (bn1): BatchNorm2d(64, eps=1e-05, momentum=0.1, affine=True, track_running_stats=True)\n",
              "      (conv2): Conv2d(64, 64, kernel_size=(3, 3), stride=(1, 1), padding=(1, 1), bias=False)\n",
              "      (bn2): BatchNorm2d(64, eps=1e-05, momentum=0.1, affine=True, track_running_stats=True)\n",
              "      (conv3): Conv2d(64, 256, kernel_size=(1, 1), stride=(1, 1), bias=False)\n",
              "      (bn3): BatchNorm2d(256, eps=1e-05, momentum=0.1, affine=True, track_running_stats=True)\n",
              "      (relu): ReLU(inplace=True)\n",
              "      (downsample): Sequential(\n",
              "        (0): Conv2d(64, 256, kernel_size=(1, 1), stride=(1, 1), bias=False)\n",
              "        (1): BatchNorm2d(256, eps=1e-05, momentum=0.1, affine=True, track_running_stats=True)\n",
              "      )\n",
              "    )\n",
              "    (1): Bottleneck(\n",
              "      (conv1): Conv2d(256, 64, kernel_size=(1, 1), stride=(1, 1), bias=False)\n",
              "      (bn1): BatchNorm2d(64, eps=1e-05, momentum=0.1, affine=True, track_running_stats=True)\n",
              "      (conv2): Conv2d(64, 64, kernel_size=(3, 3), stride=(1, 1), padding=(1, 1), bias=False)\n",
              "      (bn2): BatchNorm2d(64, eps=1e-05, momentum=0.1, affine=True, track_running_stats=True)\n",
              "      (conv3): Conv2d(64, 256, kernel_size=(1, 1), stride=(1, 1), bias=False)\n",
              "      (bn3): BatchNorm2d(256, eps=1e-05, momentum=0.1, affine=True, track_running_stats=True)\n",
              "      (relu): ReLU(inplace=True)\n",
              "    )\n",
              "    (2): Bottleneck(\n",
              "      (conv1): Conv2d(256, 64, kernel_size=(1, 1), stride=(1, 1), bias=False)\n",
              "      (bn1): BatchNorm2d(64, eps=1e-05, momentum=0.1, affine=True, track_running_stats=True)\n",
              "      (conv2): Conv2d(64, 64, kernel_size=(3, 3), stride=(1, 1), padding=(1, 1), bias=False)\n",
              "      (bn2): BatchNorm2d(64, eps=1e-05, momentum=0.1, affine=True, track_running_stats=True)\n",
              "      (conv3): Conv2d(64, 256, kernel_size=(1, 1), stride=(1, 1), bias=False)\n",
              "      (bn3): BatchNorm2d(256, eps=1e-05, momentum=0.1, affine=True, track_running_stats=True)\n",
              "      (relu): ReLU(inplace=True)\n",
              "    )\n",
              "  )\n",
              "  (layer2): Sequential(\n",
              "    (0): Bottleneck(\n",
              "      (conv1): Conv2d(256, 128, kernel_size=(1, 1), stride=(1, 1), bias=False)\n",
              "      (bn1): BatchNorm2d(128, eps=1e-05, momentum=0.1, affine=True, track_running_stats=True)\n",
              "      (conv2): Conv2d(128, 128, kernel_size=(3, 3), stride=(2, 2), padding=(1, 1), bias=False)\n",
              "      (bn2): BatchNorm2d(128, eps=1e-05, momentum=0.1, affine=True, track_running_stats=True)\n",
              "      (conv3): Conv2d(128, 512, kernel_size=(1, 1), stride=(1, 1), bias=False)\n",
              "      (bn3): BatchNorm2d(512, eps=1e-05, momentum=0.1, affine=True, track_running_stats=True)\n",
              "      (relu): ReLU(inplace=True)\n",
              "      (downsample): Sequential(\n",
              "        (0): Conv2d(256, 512, kernel_size=(1, 1), stride=(2, 2), bias=False)\n",
              "        (1): BatchNorm2d(512, eps=1e-05, momentum=0.1, affine=True, track_running_stats=True)\n",
              "      )\n",
              "    )\n",
              "    (1): Bottleneck(\n",
              "      (conv1): Conv2d(512, 128, kernel_size=(1, 1), stride=(1, 1), bias=False)\n",
              "      (bn1): BatchNorm2d(128, eps=1e-05, momentum=0.1, affine=True, track_running_stats=True)\n",
              "      (conv2): Conv2d(128, 128, kernel_size=(3, 3), stride=(1, 1), padding=(1, 1), bias=False)\n",
              "      (bn2): BatchNorm2d(128, eps=1e-05, momentum=0.1, affine=True, track_running_stats=True)\n",
              "      (conv3): Conv2d(128, 512, kernel_size=(1, 1), stride=(1, 1), bias=False)\n",
              "      (bn3): BatchNorm2d(512, eps=1e-05, momentum=0.1, affine=True, track_running_stats=True)\n",
              "      (relu): ReLU(inplace=True)\n",
              "    )\n",
              "    (2): Bottleneck(\n",
              "      (conv1): Conv2d(512, 128, kernel_size=(1, 1), stride=(1, 1), bias=False)\n",
              "      (bn1): BatchNorm2d(128, eps=1e-05, momentum=0.1, affine=True, track_running_stats=True)\n",
              "      (conv2): Conv2d(128, 128, kernel_size=(3, 3), stride=(1, 1), padding=(1, 1), bias=False)\n",
              "      (bn2): BatchNorm2d(128, eps=1e-05, momentum=0.1, affine=True, track_running_stats=True)\n",
              "      (conv3): Conv2d(128, 512, kernel_size=(1, 1), stride=(1, 1), bias=False)\n",
              "      (bn3): BatchNorm2d(512, eps=1e-05, momentum=0.1, affine=True, track_running_stats=True)\n",
              "      (relu): ReLU(inplace=True)\n",
              "    )\n",
              "    (3): Bottleneck(\n",
              "      (conv1): Conv2d(512, 128, kernel_size=(1, 1), stride=(1, 1), bias=False)\n",
              "      (bn1): BatchNorm2d(128, eps=1e-05, momentum=0.1, affine=True, track_running_stats=True)\n",
              "      (conv2): Conv2d(128, 128, kernel_size=(3, 3), stride=(1, 1), padding=(1, 1), bias=False)\n",
              "      (bn2): BatchNorm2d(128, eps=1e-05, momentum=0.1, affine=True, track_running_stats=True)\n",
              "      (conv3): Conv2d(128, 512, kernel_size=(1, 1), stride=(1, 1), bias=False)\n",
              "      (bn3): BatchNorm2d(512, eps=1e-05, momentum=0.1, affine=True, track_running_stats=True)\n",
              "      (relu): ReLU(inplace=True)\n",
              "    )\n",
              "  )\n",
              "  (layer3): Sequential(\n",
              "    (0): Bottleneck(\n",
              "      (conv1): Conv2d(512, 256, kernel_size=(1, 1), stride=(1, 1), bias=False)\n",
              "      (bn1): BatchNorm2d(256, eps=1e-05, momentum=0.1, affine=True, track_running_stats=True)\n",
              "      (conv2): Conv2d(256, 256, kernel_size=(3, 3), stride=(2, 2), padding=(1, 1), bias=False)\n",
              "      (bn2): BatchNorm2d(256, eps=1e-05, momentum=0.1, affine=True, track_running_stats=True)\n",
              "      (conv3): Conv2d(256, 1024, kernel_size=(1, 1), stride=(1, 1), bias=False)\n",
              "      (bn3): BatchNorm2d(1024, eps=1e-05, momentum=0.1, affine=True, track_running_stats=True)\n",
              "      (relu): ReLU(inplace=True)\n",
              "      (downsample): Sequential(\n",
              "        (0): Conv2d(512, 1024, kernel_size=(1, 1), stride=(2, 2), bias=False)\n",
              "        (1): BatchNorm2d(1024, eps=1e-05, momentum=0.1, affine=True, track_running_stats=True)\n",
              "      )\n",
              "    )\n",
              "    (1): Bottleneck(\n",
              "      (conv1): Conv2d(1024, 256, kernel_size=(1, 1), stride=(1, 1), bias=False)\n",
              "      (bn1): BatchNorm2d(256, eps=1e-05, momentum=0.1, affine=True, track_running_stats=True)\n",
              "      (conv2): Conv2d(256, 256, kernel_size=(3, 3), stride=(1, 1), padding=(1, 1), bias=False)\n",
              "      (bn2): BatchNorm2d(256, eps=1e-05, momentum=0.1, affine=True, track_running_stats=True)\n",
              "      (conv3): Conv2d(256, 1024, kernel_size=(1, 1), stride=(1, 1), bias=False)\n",
              "      (bn3): BatchNorm2d(1024, eps=1e-05, momentum=0.1, affine=True, track_running_stats=True)\n",
              "      (relu): ReLU(inplace=True)\n",
              "    )\n",
              "    (2): Bottleneck(\n",
              "      (conv1): Conv2d(1024, 256, kernel_size=(1, 1), stride=(1, 1), bias=False)\n",
              "      (bn1): BatchNorm2d(256, eps=1e-05, momentum=0.1, affine=True, track_running_stats=True)\n",
              "      (conv2): Conv2d(256, 256, kernel_size=(3, 3), stride=(1, 1), padding=(1, 1), bias=False)\n",
              "      (bn2): BatchNorm2d(256, eps=1e-05, momentum=0.1, affine=True, track_running_stats=True)\n",
              "      (conv3): Conv2d(256, 1024, kernel_size=(1, 1), stride=(1, 1), bias=False)\n",
              "      (bn3): BatchNorm2d(1024, eps=1e-05, momentum=0.1, affine=True, track_running_stats=True)\n",
              "      (relu): ReLU(inplace=True)\n",
              "    )\n",
              "    (3): Bottleneck(\n",
              "      (conv1): Conv2d(1024, 256, kernel_size=(1, 1), stride=(1, 1), bias=False)\n",
              "      (bn1): BatchNorm2d(256, eps=1e-05, momentum=0.1, affine=True, track_running_stats=True)\n",
              "      (conv2): Conv2d(256, 256, kernel_size=(3, 3), stride=(1, 1), padding=(1, 1), bias=False)\n",
              "      (bn2): BatchNorm2d(256, eps=1e-05, momentum=0.1, affine=True, track_running_stats=True)\n",
              "      (conv3): Conv2d(256, 1024, kernel_size=(1, 1), stride=(1, 1), bias=False)\n",
              "      (bn3): BatchNorm2d(1024, eps=1e-05, momentum=0.1, affine=True, track_running_stats=True)\n",
              "      (relu): ReLU(inplace=True)\n",
              "    )\n",
              "    (4): Bottleneck(\n",
              "      (conv1): Conv2d(1024, 256, kernel_size=(1, 1), stride=(1, 1), bias=False)\n",
              "      (bn1): BatchNorm2d(256, eps=1e-05, momentum=0.1, affine=True, track_running_stats=True)\n",
              "      (conv2): Conv2d(256, 256, kernel_size=(3, 3), stride=(1, 1), padding=(1, 1), bias=False)\n",
              "      (bn2): BatchNorm2d(256, eps=1e-05, momentum=0.1, affine=True, track_running_stats=True)\n",
              "      (conv3): Conv2d(256, 1024, kernel_size=(1, 1), stride=(1, 1), bias=False)\n",
              "      (bn3): BatchNorm2d(1024, eps=1e-05, momentum=0.1, affine=True, track_running_stats=True)\n",
              "      (relu): ReLU(inplace=True)\n",
              "    )\n",
              "    (5): Bottleneck(\n",
              "      (conv1): Conv2d(1024, 256, kernel_size=(1, 1), stride=(1, 1), bias=False)\n",
              "      (bn1): BatchNorm2d(256, eps=1e-05, momentum=0.1, affine=True, track_running_stats=True)\n",
              "      (conv2): Conv2d(256, 256, kernel_size=(3, 3), stride=(1, 1), padding=(1, 1), bias=False)\n",
              "      (bn2): BatchNorm2d(256, eps=1e-05, momentum=0.1, affine=True, track_running_stats=True)\n",
              "      (conv3): Conv2d(256, 1024, kernel_size=(1, 1), stride=(1, 1), bias=False)\n",
              "      (bn3): BatchNorm2d(1024, eps=1e-05, momentum=0.1, affine=True, track_running_stats=True)\n",
              "      (relu): ReLU(inplace=True)\n",
              "    )\n",
              "  )\n",
              "  (layer4): Sequential(\n",
              "    (0): Bottleneck(\n",
              "      (conv1): Conv2d(1024, 512, kernel_size=(1, 1), stride=(1, 1), bias=False)\n",
              "      (bn1): BatchNorm2d(512, eps=1e-05, momentum=0.1, affine=True, track_running_stats=True)\n",
              "      (conv2): Conv2d(512, 512, kernel_size=(3, 3), stride=(2, 2), padding=(1, 1), bias=False)\n",
              "      (bn2): BatchNorm2d(512, eps=1e-05, momentum=0.1, affine=True, track_running_stats=True)\n",
              "      (conv3): Conv2d(512, 2048, kernel_size=(1, 1), stride=(1, 1), bias=False)\n",
              "      (bn3): BatchNorm2d(2048, eps=1e-05, momentum=0.1, affine=True, track_running_stats=True)\n",
              "      (relu): ReLU(inplace=True)\n",
              "      (downsample): Sequential(\n",
              "        (0): Conv2d(1024, 2048, kernel_size=(1, 1), stride=(2, 2), bias=False)\n",
              "        (1): BatchNorm2d(2048, eps=1e-05, momentum=0.1, affine=True, track_running_stats=True)\n",
              "      )\n",
              "    )\n",
              "    (1): Bottleneck(\n",
              "      (conv1): Conv2d(2048, 512, kernel_size=(1, 1), stride=(1, 1), bias=False)\n",
              "      (bn1): BatchNorm2d(512, eps=1e-05, momentum=0.1, affine=True, track_running_stats=True)\n",
              "      (conv2): Conv2d(512, 512, kernel_size=(3, 3), stride=(1, 1), padding=(1, 1), bias=False)\n",
              "      (bn2): BatchNorm2d(512, eps=1e-05, momentum=0.1, affine=True, track_running_stats=True)\n",
              "      (conv3): Conv2d(512, 2048, kernel_size=(1, 1), stride=(1, 1), bias=False)\n",
              "      (bn3): BatchNorm2d(2048, eps=1e-05, momentum=0.1, affine=True, track_running_stats=True)\n",
              "      (relu): ReLU(inplace=True)\n",
              "    )\n",
              "    (2): Bottleneck(\n",
              "      (conv1): Conv2d(2048, 512, kernel_size=(1, 1), stride=(1, 1), bias=False)\n",
              "      (bn1): BatchNorm2d(512, eps=1e-05, momentum=0.1, affine=True, track_running_stats=True)\n",
              "      (conv2): Conv2d(512, 512, kernel_size=(3, 3), stride=(1, 1), padding=(1, 1), bias=False)\n",
              "      (bn2): BatchNorm2d(512, eps=1e-05, momentum=0.1, affine=True, track_running_stats=True)\n",
              "      (conv3): Conv2d(512, 2048, kernel_size=(1, 1), stride=(1, 1), bias=False)\n",
              "      (bn3): BatchNorm2d(2048, eps=1e-05, momentum=0.1, affine=True, track_running_stats=True)\n",
              "      (relu): ReLU(inplace=True)\n",
              "    )\n",
              "  )\n",
              "  (avgpool): AdaptiveAvgPool2d(output_size=(1, 1))\n",
              "  (fc): Linear(in_features=2048, out_features=1000, bias=True)\n",
              ")"
            ]
          },
          "metadata": {
            "tags": []
          },
          "execution_count": 69
        }
      ]
    },
    {
      "cell_type": "code",
      "metadata": {
        "colab": {
          "base_uri": "https://localhost:8080/",
          "height": 306
        },
        "id": "1sq3uZ97liZu",
        "outputId": "b129b4b1-e45e-43cc-e22d-4300191918c0"
      },
      "source": [
        "#we need to change the fc layers in_features for our custom model.\n",
        "body = create_body(resnet50, pretrained=False)\n",
        "head = create_head(nf=2048,n_out=62)\n",
        "model = nn.Sequential(body,head)\n",
        "\n",
        "# metr = [accuracy]\n",
        "learn = Learner(dls, model, loss_func=nn.CrossEntropyLoss(),metrics=accuracy)\n",
        "\n",
        "#find the optimum lr\n",
        "learn.lr_find()"
      ],
      "execution_count": null,
      "outputs": [
        {
          "output_type": "display_data",
          "data": {
            "text/html": [
              ""
            ],
            "text/plain": [
              "<IPython.core.display.HTML object>"
            ]
          },
          "metadata": {
            "tags": []
          }
        },
        {
          "output_type": "execute_result",
          "data": {
            "text/plain": [
              "SuggestedLRs(lr_min=0.0013182567432522773, lr_steep=0.0020892962347716093)"
            ]
          },
          "metadata": {
            "tags": []
          },
          "execution_count": 71
        },
        {
          "output_type": "display_data",
          "data": {
            "image/png": "[encoded data removed]",
            "text/plain": [
              "<Figure size 432x288 with 1 Axes>"
            ]
          },
          "metadata": {
            "tags": []
          }
        }
      ]
    },
    {
      "cell_type": "code",
      "metadata": {
        "colab": {
          "base_uri": "https://localhost:8080/",
          "height": 348
        },
        "id": "wdbnIF-nmEiS",
        "outputId": "2f9d55e8-21b4-4408-b55c-36b096fe2b4d"
      },
      "source": [
        "learn.fit_one_cycle(10,1e-3)"
      ],
      "execution_count": null,
      "outputs": [
        {
          "output_type": "display_data",
          "data": {
            "text/html": [
              "<table border=\"1\" class=\"dataframe\">\n",
              "  <thead>\n",
              "    <tr style=\"text-align: left;\">\n",
              "      <th>epoch</th>\n",
              "      <th>train_loss</th>\n",
              "      <th>valid_loss</th>\n",
              "      <th>accuracy</th>\n",
              "      <th>time</th>\n",
              "    </tr>\n",
              "  </thead>\n",
              "  <tbody>\n",
              "    <tr>\n",
              "      <td>0</td>\n",
              "      <td>4.226644</td>\n",
              "      <td>6.993695</td>\n",
              "      <td>0.010081</td>\n",
              "      <td>00:53</td>\n",
              "    </tr>\n",
              "    <tr>\n",
              "      <td>1</td>\n",
              "      <td>4.070010</td>\n",
              "      <td>7.329491</td>\n",
              "      <td>0.024194</td>\n",
              "      <td>00:53</td>\n",
              "    </tr>\n",
              "    <tr>\n",
              "      <td>2</td>\n",
              "      <td>3.742105</td>\n",
              "      <td>3.569355</td>\n",
              "      <td>0.141129</td>\n",
              "      <td>00:51</td>\n",
              "    </tr>\n",
              "    <tr>\n",
              "      <td>3</td>\n",
              "      <td>3.218126</td>\n",
              "      <td>2.516057</td>\n",
              "      <td>0.288306</td>\n",
              "      <td>00:51</td>\n",
              "    </tr>\n",
              "    <tr>\n",
              "      <td>4</td>\n",
              "      <td>2.661575</td>\n",
              "      <td>1.969764</td>\n",
              "      <td>0.457661</td>\n",
              "      <td>00:51</td>\n",
              "    </tr>\n",
              "    <tr>\n",
              "      <td>5</td>\n",
              "      <td>2.189864</td>\n",
              "      <td>1.648126</td>\n",
              "      <td>0.508065</td>\n",
              "      <td>00:51</td>\n",
              "    </tr>\n",
              "    <tr>\n",
              "      <td>6</td>\n",
              "      <td>1.843493</td>\n",
              "      <td>1.339731</td>\n",
              "      <td>0.604839</td>\n",
              "      <td>00:50</td>\n",
              "    </tr>\n",
              "    <tr>\n",
              "      <td>7</td>\n",
              "      <td>1.556113</td>\n",
              "      <td>1.129433</td>\n",
              "      <td>0.675403</td>\n",
              "      <td>00:51</td>\n",
              "    </tr>\n",
              "    <tr>\n",
              "      <td>8</td>\n",
              "      <td>1.322703</td>\n",
              "      <td>0.966418</td>\n",
              "      <td>0.733871</td>\n",
              "      <td>00:51</td>\n",
              "    </tr>\n",
              "    <tr>\n",
              "      <td>9</td>\n",
              "      <td>1.192174</td>\n",
              "      <td>0.963928</td>\n",
              "      <td>0.729839</td>\n",
              "      <td>00:51</td>\n",
              "    </tr>\n",
              "  </tbody>\n",
              "</table>"
            ],
            "text/plain": [
              "<IPython.core.display.HTML object>"
            ]
          },
          "metadata": {
            "tags": []
          }
        }
      ]
    },
    {
      "cell_type": "code",
      "metadata": {
        "colab": {
          "base_uri": "https://localhost:8080/",
          "height": 268
        },
        "id": "tJCm4fAgo6no",
        "outputId": "7bbd7d8b-d5a5-454a-e090-5f6ac46be977"
      },
      "source": [
        "plt.plot(L(learn.recorder.values).itemgot(2));\n",
        "# learn.lr_find()"
      ],
      "execution_count": null,
      "outputs": [
        {
          "output_type": "display_data",
          "data": {
            "image/png": "[encoded data removed]",
            "text/plain": [
              "<Figure size 432x288 with 1 Axes>"
            ]
          },
          "metadata": {
            "tags": []
          }
        }
      ]
    },
    {
      "cell_type": "code",
      "metadata": {
        "colab": {
          "base_uri": "https://localhost:8080/",
          "height": 309
        },
        "id": "ymij1jAZsIf2",
        "outputId": "9232011e-54e7-4ad6-ee75-e108adb20443"
      },
      "source": [
        "learn.lr_find()"
      ],
      "execution_count": null,
      "outputs": [
        {
          "output_type": "display_data",
          "data": {
            "text/html": [
              ""
            ],
            "text/plain": [
              "<IPython.core.display.HTML object>"
            ]
          },
          "metadata": {
            "tags": []
          }
        },
        {
          "output_type": "execute_result",
          "data": {
            "text/plain": [
              "SuggestedLRs(lr_min=2.7542287716642023e-05, lr_steep=0.00013182566908653826)"
            ]
          },
          "metadata": {
            "tags": []
          },
          "execution_count": 74
        },
        {
          "output_type": "display_data",
          "data": {
            "image/png": "[encoded data removed]",
            "text/plain": [
              "<Figure size 432x288 with 1 Axes>"
            ]
          },
          "metadata": {
            "tags": []
          }
        }
      ]
    },
    {
      "cell_type": "code",
      "metadata": {
        "colab": {
          "base_uri": "https://localhost:8080/",
          "height": 648
        },
        "id": "JrRxEYVFsLXd",
        "outputId": "11f6ea8f-deaa-4cba-b7ca-5ccbaa12f66d"
      },
      "source": [
        "learn.fit_one_cycle(20,2e-5)"
      ],
      "execution_count": null,
      "outputs": [
        {
          "output_type": "display_data",
          "data": {
            "text/html": [
              "<table border=\"1\" class=\"dataframe\">\n",
              "  <thead>\n",
              "    <tr style=\"text-align: left;\">\n",
              "      <th>epoch</th>\n",
              "      <th>train_loss</th>\n",
              "      <th>valid_loss</th>\n",
              "      <th>accuracy</th>\n",
              "      <th>time</th>\n",
              "    </tr>\n",
              "  </thead>\n",
              "  <tbody>\n",
              "    <tr>\n",
              "      <td>0</td>\n",
              "      <td>1.009342</td>\n",
              "      <td>0.958285</td>\n",
              "      <td>0.733871</td>\n",
              "      <td>00:52</td>\n",
              "    </tr>\n",
              "    <tr>\n",
              "      <td>1</td>\n",
              "      <td>0.996587</td>\n",
              "      <td>0.957966</td>\n",
              "      <td>0.737903</td>\n",
              "      <td>00:52</td>\n",
              "    </tr>\n",
              "    <tr>\n",
              "      <td>2</td>\n",
              "      <td>0.999673</td>\n",
              "      <td>0.945935</td>\n",
              "      <td>0.745968</td>\n",
              "      <td>00:51</td>\n",
              "    </tr>\n",
              "    <tr>\n",
              "      <td>3</td>\n",
              "      <td>0.996612</td>\n",
              "      <td>0.934111</td>\n",
              "      <td>0.745968</td>\n",
              "      <td>00:51</td>\n",
              "    </tr>\n",
              "    <tr>\n",
              "      <td>4</td>\n",
              "      <td>0.995316</td>\n",
              "      <td>0.913140</td>\n",
              "      <td>0.752016</td>\n",
              "      <td>00:51</td>\n",
              "    </tr>\n",
              "    <tr>\n",
              "      <td>5</td>\n",
              "      <td>0.979420</td>\n",
              "      <td>0.921245</td>\n",
              "      <td>0.750000</td>\n",
              "      <td>00:51</td>\n",
              "    </tr>\n",
              "    <tr>\n",
              "      <td>6</td>\n",
              "      <td>0.978694</td>\n",
              "      <td>0.864714</td>\n",
              "      <td>0.766129</td>\n",
              "      <td>00:51</td>\n",
              "    </tr>\n",
              "    <tr>\n",
              "      <td>7</td>\n",
              "      <td>0.956846</td>\n",
              "      <td>0.877933</td>\n",
              "      <td>0.770161</td>\n",
              "      <td>00:51</td>\n",
              "    </tr>\n",
              "    <tr>\n",
              "      <td>8</td>\n",
              "      <td>0.939733</td>\n",
              "      <td>0.857441</td>\n",
              "      <td>0.768145</td>\n",
              "      <td>00:51</td>\n",
              "    </tr>\n",
              "    <tr>\n",
              "      <td>9</td>\n",
              "      <td>0.915984</td>\n",
              "      <td>0.830136</td>\n",
              "      <td>0.778226</td>\n",
              "      <td>00:51</td>\n",
              "    </tr>\n",
              "    <tr>\n",
              "      <td>10</td>\n",
              "      <td>0.908959</td>\n",
              "      <td>0.846489</td>\n",
              "      <td>0.766129</td>\n",
              "      <td>00:51</td>\n",
              "    </tr>\n",
              "    <tr>\n",
              "      <td>11</td>\n",
              "      <td>0.894605</td>\n",
              "      <td>0.841299</td>\n",
              "      <td>0.772177</td>\n",
              "      <td>00:51</td>\n",
              "    </tr>\n",
              "    <tr>\n",
              "      <td>12</td>\n",
              "      <td>0.894708</td>\n",
              "      <td>0.843254</td>\n",
              "      <td>0.772177</td>\n",
              "      <td>00:51</td>\n",
              "    </tr>\n",
              "    <tr>\n",
              "      <td>13</td>\n",
              "      <td>0.877251</td>\n",
              "      <td>0.817324</td>\n",
              "      <td>0.784274</td>\n",
              "      <td>00:51</td>\n",
              "    </tr>\n",
              "    <tr>\n",
              "      <td>14</td>\n",
              "      <td>0.884537</td>\n",
              "      <td>0.813610</td>\n",
              "      <td>0.788306</td>\n",
              "      <td>00:51</td>\n",
              "    </tr>\n",
              "    <tr>\n",
              "      <td>15</td>\n",
              "      <td>0.866652</td>\n",
              "      <td>0.791272</td>\n",
              "      <td>0.786290</td>\n",
              "      <td>00:51</td>\n",
              "    </tr>\n",
              "    <tr>\n",
              "      <td>16</td>\n",
              "      <td>0.858176</td>\n",
              "      <td>0.791306</td>\n",
              "      <td>0.784274</td>\n",
              "      <td>00:51</td>\n",
              "    </tr>\n",
              "    <tr>\n",
              "      <td>17</td>\n",
              "      <td>0.843860</td>\n",
              "      <td>0.791407</td>\n",
              "      <td>0.786290</td>\n",
              "      <td>00:51</td>\n",
              "    </tr>\n",
              "    <tr>\n",
              "      <td>18</td>\n",
              "      <td>0.838335</td>\n",
              "      <td>0.795775</td>\n",
              "      <td>0.790323</td>\n",
              "      <td>00:51</td>\n",
              "    </tr>\n",
              "    <tr>\n",
              "      <td>19</td>\n",
              "      <td>0.838872</td>\n",
              "      <td>0.791420</td>\n",
              "      <td>0.788306</td>\n",
              "      <td>00:51</td>\n",
              "    </tr>\n",
              "  </tbody>\n",
              "</table>"
            ],
            "text/plain": [
              "<IPython.core.display.HTML object>"
            ]
          },
          "metadata": {
            "tags": []
          }
        }
      ]
    },
    {
      "cell_type": "code",
      "metadata": {
        "colab": {
          "base_uri": "https://localhost:8080/",
          "height": 268
        },
        "id": "AGyIsxvwtU-W",
        "outputId": "f86dfd79-6176-46a7-83ce-ba80bf788cd0"
      },
      "source": [
        "plt.plot(L(learn.recorder.values).itemgot(2));"
      ],
      "execution_count": null,
      "outputs": [
        {
          "output_type": "display_data",
          "data": {
            "image/png": "[encoded data removed]",
            "text/plain": [
              "<Figure size 432x288 with 1 Axes>"
            ]
          },
          "metadata": {
            "tags": []
          }
        }
      ]
    },
    {
      "cell_type": "code",
      "metadata": {
        "colab": {
          "base_uri": "https://localhost:8080/",
          "height": 306
        },
        "id": "CGLkXQ_9xWOo",
        "outputId": "5ac47a68-c174-4a96-ecec-b95cdd2b258b"
      },
      "source": [
        "learn.lr_find()"
      ],
      "execution_count": null,
      "outputs": [
        {
          "output_type": "display_data",
          "data": {
            "text/html": [
              ""
            ],
            "text/plain": [
              "<IPython.core.display.HTML object>"
            ]
          },
          "metadata": {
            "tags": []
          }
        },
        {
          "output_type": "execute_result",
          "data": {
            "text/plain": [
              "SuggestedLRs(lr_min=1.9054606673307718e-05, lr_steep=1.0964781722577754e-06)"
            ]
          },
          "metadata": {
            "tags": []
          },
          "execution_count": 77
        },
        {
          "output_type": "display_data",
          "data": {
            "image/png": "[encoded data removed]",
            "text/plain": [
              "<Figure size 432x288 with 1 Axes>"
            ]
          },
          "metadata": {
            "tags": []
          }
        }
      ]
    },
    {
      "cell_type": "code",
      "metadata": {
        "colab": {
          "base_uri": "https://localhost:8080/",
          "height": 648
        },
        "id": "upqR3qtIxZxY",
        "outputId": "9f4a85c1-5528-4a57-a677-49fec0bf0c3e"
      },
      "source": [
        "learn.fit_one_cycle(20,lr_max=1e-5)"
      ],
      "execution_count": null,
      "outputs": [
        {
          "output_type": "display_data",
          "data": {
            "text/html": [
              "<table border=\"1\" class=\"dataframe\">\n",
              "  <thead>\n",
              "    <tr style=\"text-align: left;\">\n",
              "      <th>epoch</th>\n",
              "      <th>train_loss</th>\n",
              "      <th>valid_loss</th>\n",
              "      <th>accuracy</th>\n",
              "      <th>time</th>\n",
              "    </tr>\n",
              "  </thead>\n",
              "  <tbody>\n",
              "    <tr>\n",
              "      <td>0</td>\n",
              "      <td>0.836459</td>\n",
              "      <td>0.792992</td>\n",
              "      <td>0.786290</td>\n",
              "      <td>00:52</td>\n",
              "    </tr>\n",
              "    <tr>\n",
              "      <td>1</td>\n",
              "      <td>0.842737</td>\n",
              "      <td>0.790369</td>\n",
              "      <td>0.788306</td>\n",
              "      <td>00:52</td>\n",
              "    </tr>\n",
              "    <tr>\n",
              "      <td>2</td>\n",
              "      <td>0.842448</td>\n",
              "      <td>0.797196</td>\n",
              "      <td>0.788306</td>\n",
              "      <td>00:52</td>\n",
              "    </tr>\n",
              "    <tr>\n",
              "      <td>3</td>\n",
              "      <td>0.843172</td>\n",
              "      <td>0.783300</td>\n",
              "      <td>0.798387</td>\n",
              "      <td>00:52</td>\n",
              "    </tr>\n",
              "    <tr>\n",
              "      <td>4</td>\n",
              "      <td>0.837653</td>\n",
              "      <td>0.764869</td>\n",
              "      <td>0.792339</td>\n",
              "      <td>00:52</td>\n",
              "    </tr>\n",
              "    <tr>\n",
              "      <td>5</td>\n",
              "      <td>0.817591</td>\n",
              "      <td>0.777429</td>\n",
              "      <td>0.788306</td>\n",
              "      <td>00:51</td>\n",
              "    </tr>\n",
              "    <tr>\n",
              "      <td>6</td>\n",
              "      <td>0.825365</td>\n",
              "      <td>0.776395</td>\n",
              "      <td>0.792339</td>\n",
              "      <td>00:52</td>\n",
              "    </tr>\n",
              "    <tr>\n",
              "      <td>7</td>\n",
              "      <td>0.816676</td>\n",
              "      <td>0.769272</td>\n",
              "      <td>0.790323</td>\n",
              "      <td>00:52</td>\n",
              "    </tr>\n",
              "    <tr>\n",
              "      <td>8</td>\n",
              "      <td>0.816107</td>\n",
              "      <td>0.759200</td>\n",
              "      <td>0.794355</td>\n",
              "      <td>00:51</td>\n",
              "    </tr>\n",
              "    <tr>\n",
              "      <td>9</td>\n",
              "      <td>0.808334</td>\n",
              "      <td>0.745682</td>\n",
              "      <td>0.798387</td>\n",
              "      <td>00:51</td>\n",
              "    </tr>\n",
              "    <tr>\n",
              "      <td>10</td>\n",
              "      <td>0.809395</td>\n",
              "      <td>0.753119</td>\n",
              "      <td>0.790323</td>\n",
              "      <td>00:51</td>\n",
              "    </tr>\n",
              "    <tr>\n",
              "      <td>11</td>\n",
              "      <td>0.797831</td>\n",
              "      <td>0.740823</td>\n",
              "      <td>0.796371</td>\n",
              "      <td>00:51</td>\n",
              "    </tr>\n",
              "    <tr>\n",
              "      <td>12</td>\n",
              "      <td>0.783787</td>\n",
              "      <td>0.746196</td>\n",
              "      <td>0.786290</td>\n",
              "      <td>00:51</td>\n",
              "    </tr>\n",
              "    <tr>\n",
              "      <td>13</td>\n",
              "      <td>0.788713</td>\n",
              "      <td>0.743252</td>\n",
              "      <td>0.788306</td>\n",
              "      <td>00:51</td>\n",
              "    </tr>\n",
              "    <tr>\n",
              "      <td>14</td>\n",
              "      <td>0.781250</td>\n",
              "      <td>0.738320</td>\n",
              "      <td>0.786290</td>\n",
              "      <td>00:51</td>\n",
              "    </tr>\n",
              "    <tr>\n",
              "      <td>15</td>\n",
              "      <td>0.773433</td>\n",
              "      <td>0.750773</td>\n",
              "      <td>0.790323</td>\n",
              "      <td>00:51</td>\n",
              "    </tr>\n",
              "    <tr>\n",
              "      <td>16</td>\n",
              "      <td>0.779450</td>\n",
              "      <td>0.739930</td>\n",
              "      <td>0.788306</td>\n",
              "      <td>00:51</td>\n",
              "    </tr>\n",
              "    <tr>\n",
              "      <td>17</td>\n",
              "      <td>0.778671</td>\n",
              "      <td>0.739042</td>\n",
              "      <td>0.788306</td>\n",
              "      <td>00:51</td>\n",
              "    </tr>\n",
              "    <tr>\n",
              "      <td>18</td>\n",
              "      <td>0.767483</td>\n",
              "      <td>0.748026</td>\n",
              "      <td>0.790323</td>\n",
              "      <td>00:51</td>\n",
              "    </tr>\n",
              "    <tr>\n",
              "      <td>19</td>\n",
              "      <td>0.763573</td>\n",
              "      <td>0.729277</td>\n",
              "      <td>0.794355</td>\n",
              "      <td>00:51</td>\n",
              "    </tr>\n",
              "  </tbody>\n",
              "</table>"
            ],
            "text/plain": [
              "<IPython.core.display.HTML object>"
            ]
          },
          "metadata": {
            "tags": []
          }
        }
      ]
    },
    {
      "cell_type": "code",
      "metadata": {
        "id": "2gr8nhOeygIv"
      },
      "source": [
        "# https://share.cocalc.com/share/32b94ee413d02759d719862907bb0a85a76c43f1/2016-11-07-175929.pdf"
      ],
      "execution_count": null,
      "outputs": []
    },
    {
      "cell_type": "code",
      "metadata": {
        "colab": {
          "base_uri": "https://localhost:8080/",
          "height": 268
        },
        "id": "5kRCQAWY48yL",
        "outputId": "638539d3-0f54-4c91-d3c9-c90b817c5ddb"
      },
      "source": [
        "plt.plot(L(learn.recorder.values).itemgot(2));"
      ],
      "execution_count": null,
      "outputs": [
        {
          "output_type": "display_data",
          "data": {
            "image/png": "[encoded data removed]",
            "text/plain": [
              "<Figure size 432x288 with 1 Axes>"
            ]
          },
          "metadata": {
            "tags": []
          }
        }
      ]
    },
    {
      "cell_type": "code",
      "metadata": {
        "id": "UsAL-0J35Gbs"
      },
      "source": [
        "path = '/content/drive/MyDrive/models'"
      ],
      "execution_count": null,
      "outputs": []
    },
    {
      "cell_type": "code",
      "metadata": {
        "colab": {
          "base_uri": "https://localhost:8080/"
        },
        "id": "pUwMVluA5ItL",
        "outputId": "50114c72-d181-44b6-d3a1-7e328cd2bb58"
      },
      "source": [
        "cd '/content/drive/MyDrive/models'"
      ],
      "execution_count": null,
      "outputs": [
        {
          "output_type": "stream",
          "text": [
            "/content/drive/MyDrive/models\n"
          ],
          "name": "stdout"
        }
      ]
    },
    {
      "cell_type": "code",
      "metadata": {
        "id": "TzBK-bQd5TxU"
      },
      "source": [
        "#saved the model for future exploration\n",
        "learn.export('mark1-rn50')"
      ],
      "execution_count": null,
      "outputs": []
    },
    {
      "cell_type": "code",
      "metadata": {
        "colab": {
          "base_uri": "https://localhost:8080/"
        },
        "id": "zki9NfLM5bql",
        "outputId": "2f7813ed-05f6-4773-b159-de9ec32d0551"
      },
      "source": [
        "ls"
      ],
      "execution_count": null,
      "outputs": [
        {
          "output_type": "stream",
          "text": [
            "mark1-rn50\n"
          ],
          "name": "stdout"
        }
      ]
    },
    {
      "cell_type": "code",
      "metadata": {
        "colab": {
          "base_uri": "https://localhost:8080/",
          "height": 268
        },
        "id": "vmp2Hq-f5chF",
        "outputId": "ccd9ef78-08db-48de-84ac-ae77fcdadf5b"
      },
      "source": [
        "learn.recorder.plot_loss()\n"
      ],
      "execution_count": null,
      "outputs": [
        {
          "output_type": "display_data",
          "data": {
            "image/png": "[encoded data removed]",
            "text/plain": [
              "<Figure size 432x288 with 1 Axes>"
            ]
          },
          "metadata": {
            "tags": []
          }
        }
      ]
    },
    {
      "cell_type": "code",
      "metadata": {
        "id": "C2FWTW059Vb6"
      },
      "source": [
        "interp.plot_top_losses(10) #this seems not working..."
      ],
      "execution_count": null,
      "outputs": []
    },
    {
      "cell_type": "code",
      "metadata": {
        "id": "vD56iMan-HwU"
      },
      "source": [
        ""
      ],
      "execution_count": null,
      "outputs": []
    },
    {
      "cell_type": "markdown",
      "metadata": {
        "id": "WOzYJMa9_RFM"
      },
      "source": [
        "MODEL : RESNET34"
      ]
    },
    {
      "cell_type": "code",
      "metadata": {
        "colab": {
          "base_uri": "https://localhost:8080/"
        },
        "id": "EvOdnPQ8_WRW",
        "outputId": "7ea261ab-e998-4491-f9b8-2192dc3419df"
      },
      "source": [
        "model = models.resnet34(pretrained=False)\n",
        "model"
      ],
      "execution_count": null,
      "outputs": [
        {
          "output_type": "execute_result",
          "data": {
            "text/plain": [
              "ResNet(\n",
              "  (conv1): Conv2d(3, 64, kernel_size=(7, 7), stride=(2, 2), padding=(3, 3), bias=False)\n",
              "  (bn1): BatchNorm2d(64, eps=1e-05, momentum=0.1, affine=True, track_running_stats=True)\n",
              "  (relu): ReLU(inplace=True)\n",
              "  (maxpool): MaxPool2d(kernel_size=3, stride=2, padding=1, dilation=1, ceil_mode=False)\n",
              "  (layer1): Sequential(\n",
              "    (0): BasicBlock(\n",
              "      (conv1): Conv2d(64, 64, kernel_size=(3, 3), stride=(1, 1), padding=(1, 1), bias=False)\n",
              "      (bn1): BatchNorm2d(64, eps=1e-05, momentum=0.1, affine=True, track_running_stats=True)\n",
              "      (relu): ReLU(inplace=True)\n",
              "      (conv2): Conv2d(64, 64, kernel_size=(3, 3), stride=(1, 1), padding=(1, 1), bias=False)\n",
              "      (bn2): BatchNorm2d(64, eps=1e-05, momentum=0.1, affine=True, track_running_stats=True)\n",
              "    )\n",
              "    (1): BasicBlock(\n",
              "      (conv1): Conv2d(64, 64, kernel_size=(3, 3), stride=(1, 1), padding=(1, 1), bias=False)\n",
              "      (bn1): BatchNorm2d(64, eps=1e-05, momentum=0.1, affine=True, track_running_stats=True)\n",
              "      (relu): ReLU(inplace=True)\n",
              "      (conv2): Conv2d(64, 64, kernel_size=(3, 3), stride=(1, 1), padding=(1, 1), bias=False)\n",
              "      (bn2): BatchNorm2d(64, eps=1e-05, momentum=0.1, affine=True, track_running_stats=True)\n",
              "    )\n",
              "    (2): BasicBlock(\n",
              "      (conv1): Conv2d(64, 64, kernel_size=(3, 3), stride=(1, 1), padding=(1, 1), bias=False)\n",
              "      (bn1): BatchNorm2d(64, eps=1e-05, momentum=0.1, affine=True, track_running_stats=True)\n",
              "      (relu): ReLU(inplace=True)\n",
              "      (conv2): Conv2d(64, 64, kernel_size=(3, 3), stride=(1, 1), padding=(1, 1), bias=False)\n",
              "      (bn2): BatchNorm2d(64, eps=1e-05, momentum=0.1, affine=True, track_running_stats=True)\n",
              "    )\n",
              "  )\n",
              "  (layer2): Sequential(\n",
              "    (0): BasicBlock(\n",
              "      (conv1): Conv2d(64, 128, kernel_size=(3, 3), stride=(2, 2), padding=(1, 1), bias=False)\n",
              "      (bn1): BatchNorm2d(128, eps=1e-05, momentum=0.1, affine=True, track_running_stats=True)\n",
              "      (relu): ReLU(inplace=True)\n",
              "      (conv2): Conv2d(128, 128, kernel_size=(3, 3), stride=(1, 1), padding=(1, 1), bias=False)\n",
              "      (bn2): BatchNorm2d(128, eps=1e-05, momentum=0.1, affine=True, track_running_stats=True)\n",
              "      (downsample): Sequential(\n",
              "        (0): Conv2d(64, 128, kernel_size=(1, 1), stride=(2, 2), bias=False)\n",
              "        (1): BatchNorm2d(128, eps=1e-05, momentum=0.1, affine=True, track_running_stats=True)\n",
              "      )\n",
              "    )\n",
              "    (1): BasicBlock(\n",
              "      (conv1): Conv2d(128, 128, kernel_size=(3, 3), stride=(1, 1), padding=(1, 1), bias=False)\n",
              "      (bn1): BatchNorm2d(128, eps=1e-05, momentum=0.1, affine=True, track_running_stats=True)\n",
              "      (relu): ReLU(inplace=True)\n",
              "      (conv2): Conv2d(128, 128, kernel_size=(3, 3), stride=(1, 1), padding=(1, 1), bias=False)\n",
              "      (bn2): BatchNorm2d(128, eps=1e-05, momentum=0.1, affine=True, track_running_stats=True)\n",
              "    )\n",
              "    (2): BasicBlock(\n",
              "      (conv1): Conv2d(128, 128, kernel_size=(3, 3), stride=(1, 1), padding=(1, 1), bias=False)\n",
              "      (bn1): BatchNorm2d(128, eps=1e-05, momentum=0.1, affine=True, track_running_stats=True)\n",
              "      (relu): ReLU(inplace=True)\n",
              "      (conv2): Conv2d(128, 128, kernel_size=(3, 3), stride=(1, 1), padding=(1, 1), bias=False)\n",
              "      (bn2): BatchNorm2d(128, eps=1e-05, momentum=0.1, affine=True, track_running_stats=True)\n",
              "    )\n",
              "    (3): BasicBlock(\n",
              "      (conv1): Conv2d(128, 128, kernel_size=(3, 3), stride=(1, 1), padding=(1, 1), bias=False)\n",
              "      (bn1): BatchNorm2d(128, eps=1e-05, momentum=0.1, affine=True, track_running_stats=True)\n",
              "      (relu): ReLU(inplace=True)\n",
              "      (conv2): Conv2d(128, 128, kernel_size=(3, 3), stride=(1, 1), padding=(1, 1), bias=False)\n",
              "      (bn2): BatchNorm2d(128, eps=1e-05, momentum=0.1, affine=True, track_running_stats=True)\n",
              "    )\n",
              "  )\n",
              "  (layer3): Sequential(\n",
              "    (0): BasicBlock(\n",
              "      (conv1): Conv2d(128, 256, kernel_size=(3, 3), stride=(2, 2), padding=(1, 1), bias=False)\n",
              "      (bn1): BatchNorm2d(256, eps=1e-05, momentum=0.1, affine=True, track_running_stats=True)\n",
              "      (relu): ReLU(inplace=True)\n",
              "      (conv2): Conv2d(256, 256, kernel_size=(3, 3), stride=(1, 1), padding=(1, 1), bias=False)\n",
              "      (bn2): BatchNorm2d(256, eps=1e-05, momentum=0.1, affine=True, track_running_stats=True)\n",
              "      (downsample): Sequential(\n",
              "        (0): Conv2d(128, 256, kernel_size=(1, 1), stride=(2, 2), bias=False)\n",
              "        (1): BatchNorm2d(256, eps=1e-05, momentum=0.1, affine=True, track_running_stats=True)\n",
              "      )\n",
              "    )\n",
              "    (1): BasicBlock(\n",
              "      (conv1): Conv2d(256, 256, kernel_size=(3, 3), stride=(1, 1), padding=(1, 1), bias=False)\n",
              "      (bn1): BatchNorm2d(256, eps=1e-05, momentum=0.1, affine=True, track_running_stats=True)\n",
              "      (relu): ReLU(inplace=True)\n",
              "      (conv2): Conv2d(256, 256, kernel_size=(3, 3), stride=(1, 1), padding=(1, 1), bias=False)\n",
              "      (bn2): BatchNorm2d(256, eps=1e-05, momentum=0.1, affine=True, track_running_stats=True)\n",
              "    )\n",
              "    (2): BasicBlock(\n",
              "      (conv1): Conv2d(256, 256, kernel_size=(3, 3), stride=(1, 1), padding=(1, 1), bias=False)\n",
              "      (bn1): BatchNorm2d(256, eps=1e-05, momentum=0.1, affine=True, track_running_stats=True)\n",
              "      (relu): ReLU(inplace=True)\n",
              "      (conv2): Conv2d(256, 256, kernel_size=(3, 3), stride=(1, 1), padding=(1, 1), bias=False)\n",
              "      (bn2): BatchNorm2d(256, eps=1e-05, momentum=0.1, affine=True, track_running_stats=True)\n",
              "    )\n",
              "    (3): BasicBlock(\n",
              "      (conv1): Conv2d(256, 256, kernel_size=(3, 3), stride=(1, 1), padding=(1, 1), bias=False)\n",
              "      (bn1): BatchNorm2d(256, eps=1e-05, momentum=0.1, affine=True, track_running_stats=True)\n",
              "      (relu): ReLU(inplace=True)\n",
              "      (conv2): Conv2d(256, 256, kernel_size=(3, 3), stride=(1, 1), padding=(1, 1), bias=False)\n",
              "      (bn2): BatchNorm2d(256, eps=1e-05, momentum=0.1, affine=True, track_running_stats=True)\n",
              "    )\n",
              "    (4): BasicBlock(\n",
              "      (conv1): Conv2d(256, 256, kernel_size=(3, 3), stride=(1, 1), padding=(1, 1), bias=False)\n",
              "      (bn1): BatchNorm2d(256, eps=1e-05, momentum=0.1, affine=True, track_running_stats=True)\n",
              "      (relu): ReLU(inplace=True)\n",
              "      (conv2): Conv2d(256, 256, kernel_size=(3, 3), stride=(1, 1), padding=(1, 1), bias=False)\n",
              "      (bn2): BatchNorm2d(256, eps=1e-05, momentum=0.1, affine=True, track_running_stats=True)\n",
              "    )\n",
              "    (5): BasicBlock(\n",
              "      (conv1): Conv2d(256, 256, kernel_size=(3, 3), stride=(1, 1), padding=(1, 1), bias=False)\n",
              "      (bn1): BatchNorm2d(256, eps=1e-05, momentum=0.1, affine=True, track_running_stats=True)\n",
              "      (relu): ReLU(inplace=True)\n",
              "      (conv2): Conv2d(256, 256, kernel_size=(3, 3), stride=(1, 1), padding=(1, 1), bias=False)\n",
              "      (bn2): BatchNorm2d(256, eps=1e-05, momentum=0.1, affine=True, track_running_stats=True)\n",
              "    )\n",
              "  )\n",
              "  (layer4): Sequential(\n",
              "    (0): BasicBlock(\n",
              "      (conv1): Conv2d(256, 512, kernel_size=(3, 3), stride=(2, 2), padding=(1, 1), bias=False)\n",
              "      (bn1): BatchNorm2d(512, eps=1e-05, momentum=0.1, affine=True, track_running_stats=True)\n",
              "      (relu): ReLU(inplace=True)\n",
              "      (conv2): Conv2d(512, 512, kernel_size=(3, 3), stride=(1, 1), padding=(1, 1), bias=False)\n",
              "      (bn2): BatchNorm2d(512, eps=1e-05, momentum=0.1, affine=True, track_running_stats=True)\n",
              "      (downsample): Sequential(\n",
              "        (0): Conv2d(256, 512, kernel_size=(1, 1), stride=(2, 2), bias=False)\n",
              "        (1): BatchNorm2d(512, eps=1e-05, momentum=0.1, affine=True, track_running_stats=True)\n",
              "      )\n",
              "    )\n",
              "    (1): BasicBlock(\n",
              "      (conv1): Conv2d(512, 512, kernel_size=(3, 3), stride=(1, 1), padding=(1, 1), bias=False)\n",
              "      (bn1): BatchNorm2d(512, eps=1e-05, momentum=0.1, affine=True, track_running_stats=True)\n",
              "      (relu): ReLU(inplace=True)\n",
              "      (conv2): Conv2d(512, 512, kernel_size=(3, 3), stride=(1, 1), padding=(1, 1), bias=False)\n",
              "      (bn2): BatchNorm2d(512, eps=1e-05, momentum=0.1, affine=True, track_running_stats=True)\n",
              "    )\n",
              "    (2): BasicBlock(\n",
              "      (conv1): Conv2d(512, 512, kernel_size=(3, 3), stride=(1, 1), padding=(1, 1), bias=False)\n",
              "      (bn1): BatchNorm2d(512, eps=1e-05, momentum=0.1, affine=True, track_running_stats=True)\n",
              "      (relu): ReLU(inplace=True)\n",
              "      (conv2): Conv2d(512, 512, kernel_size=(3, 3), stride=(1, 1), padding=(1, 1), bias=False)\n",
              "      (bn2): BatchNorm2d(512, eps=1e-05, momentum=0.1, affine=True, track_running_stats=True)\n",
              "    )\n",
              "  )\n",
              "  (avgpool): AdaptiveAvgPool2d(output_size=(1, 1))\n",
              "  (fc): Linear(in_features=512, out_features=1000, bias=True)\n",
              ")"
            ]
          },
          "metadata": {
            "tags": []
          },
          "execution_count": 99
        }
      ]
    },
    {
      "cell_type": "code",
      "metadata": {
        "colab": {
          "base_uri": "https://localhost:8080/",
          "height": 306
        },
        "id": "RNUNhZur_gma",
        "outputId": "25673c54-e7ee-4bde-bef9-03f16bdc1864"
      },
      "source": [
        "#we need to change the fc layers in_features for our custom model.\n",
        "body = create_body(resnet34, pretrained=False)\n",
        "head = create_head(nf=512,n_out=62)\n",
        "model = nn.Sequential(body,head)\n",
        "\n",
        "# metr = [accuracy]\n",
        "learn = Learner(dls, model, loss_func=nn.CrossEntropyLoss(),metrics=accuracy)\n",
        "\n",
        "#find the optimum lr\n",
        "learn.lr_find()"
      ],
      "execution_count": null,
      "outputs": [
        {
          "output_type": "display_data",
          "data": {
            "text/html": [
              ""
            ],
            "text/plain": [
              "<IPython.core.display.HTML object>"
            ]
          },
          "metadata": {
            "tags": []
          }
        },
        {
          "output_type": "execute_result",
          "data": {
            "text/plain": [
              "SuggestedLRs(lr_min=0.0019054606556892395, lr_steep=6.309573450380412e-07)"
            ]
          },
          "metadata": {
            "tags": []
          },
          "execution_count": 101
        },
        {
          "output_type": "display_data",
          "data": {
            "image/png": "[encoded data removed]",
            "text/plain": [
              "<Figure size 432x288 with 1 Axes>"
            ]
          },
          "metadata": {
            "tags": []
          }
        }
      ]
    },
    {
      "cell_type": "code",
      "metadata": {
        "colab": {
          "base_uri": "https://localhost:8080/",
          "height": 648
        },
        "id": "mR7u8KPC_knZ",
        "outputId": "5e8ef529-c188-4820-f366-698cf50682ca"
      },
      "source": [
        "learn.fit_one_cycle(20,1e-03)"
      ],
      "execution_count": null,
      "outputs": [
        {
          "output_type": "display_data",
          "data": {
            "text/html": [
              "<table border=\"1\" class=\"dataframe\">\n",
              "  <thead>\n",
              "    <tr style=\"text-align: left;\">\n",
              "      <th>epoch</th>\n",
              "      <th>train_loss</th>\n",
              "      <th>valid_loss</th>\n",
              "      <th>accuracy</th>\n",
              "      <th>time</th>\n",
              "    </tr>\n",
              "  </thead>\n",
              "  <tbody>\n",
              "    <tr>\n",
              "      <td>0</td>\n",
              "      <td>4.313445</td>\n",
              "      <td>4.873773</td>\n",
              "      <td>0.010081</td>\n",
              "      <td>00:48</td>\n",
              "    </tr>\n",
              "    <tr>\n",
              "      <td>1</td>\n",
              "      <td>4.157425</td>\n",
              "      <td>4.676472</td>\n",
              "      <td>0.042339</td>\n",
              "      <td>00:48</td>\n",
              "    </tr>\n",
              "    <tr>\n",
              "      <td>2</td>\n",
              "      <td>3.844648</td>\n",
              "      <td>6.369950</td>\n",
              "      <td>0.036290</td>\n",
              "      <td>00:48</td>\n",
              "    </tr>\n",
              "    <tr>\n",
              "      <td>3</td>\n",
              "      <td>3.342386</td>\n",
              "      <td>2.697374</td>\n",
              "      <td>0.213710</td>\n",
              "      <td>00:48</td>\n",
              "    </tr>\n",
              "    <tr>\n",
              "      <td>4</td>\n",
              "      <td>2.784516</td>\n",
              "      <td>2.050871</td>\n",
              "      <td>0.368952</td>\n",
              "      <td>00:48</td>\n",
              "    </tr>\n",
              "    <tr>\n",
              "      <td>5</td>\n",
              "      <td>2.287928</td>\n",
              "      <td>2.172623</td>\n",
              "      <td>0.326613</td>\n",
              "      <td>00:47</td>\n",
              "    </tr>\n",
              "    <tr>\n",
              "      <td>6</td>\n",
              "      <td>1.877815</td>\n",
              "      <td>2.320211</td>\n",
              "      <td>0.336694</td>\n",
              "      <td>00:48</td>\n",
              "    </tr>\n",
              "    <tr>\n",
              "      <td>7</td>\n",
              "      <td>1.555637</td>\n",
              "      <td>1.681810</td>\n",
              "      <td>0.477823</td>\n",
              "      <td>00:47</td>\n",
              "    </tr>\n",
              "    <tr>\n",
              "      <td>8</td>\n",
              "      <td>1.338068</td>\n",
              "      <td>1.978536</td>\n",
              "      <td>0.401210</td>\n",
              "      <td>00:48</td>\n",
              "    </tr>\n",
              "    <tr>\n",
              "      <td>9</td>\n",
              "      <td>1.162984</td>\n",
              "      <td>1.167258</td>\n",
              "      <td>0.633065</td>\n",
              "      <td>00:48</td>\n",
              "    </tr>\n",
              "    <tr>\n",
              "      <td>10</td>\n",
              "      <td>1.031870</td>\n",
              "      <td>1.213455</td>\n",
              "      <td>0.625000</td>\n",
              "      <td>00:47</td>\n",
              "    </tr>\n",
              "    <tr>\n",
              "      <td>11</td>\n",
              "      <td>0.922011</td>\n",
              "      <td>0.756262</td>\n",
              "      <td>0.766129</td>\n",
              "      <td>00:47</td>\n",
              "    </tr>\n",
              "    <tr>\n",
              "      <td>12</td>\n",
              "      <td>0.819790</td>\n",
              "      <td>0.786813</td>\n",
              "      <td>0.729839</td>\n",
              "      <td>00:48</td>\n",
              "    </tr>\n",
              "    <tr>\n",
              "      <td>13</td>\n",
              "      <td>0.739832</td>\n",
              "      <td>0.915495</td>\n",
              "      <td>0.737903</td>\n",
              "      <td>00:48</td>\n",
              "    </tr>\n",
              "    <tr>\n",
              "      <td>14</td>\n",
              "      <td>0.676615</td>\n",
              "      <td>0.771142</td>\n",
              "      <td>0.739919</td>\n",
              "      <td>00:48</td>\n",
              "    </tr>\n",
              "    <tr>\n",
              "      <td>15</td>\n",
              "      <td>0.619401</td>\n",
              "      <td>0.604123</td>\n",
              "      <td>0.814516</td>\n",
              "      <td>00:48</td>\n",
              "    </tr>\n",
              "    <tr>\n",
              "      <td>16</td>\n",
              "      <td>0.575488</td>\n",
              "      <td>0.520682</td>\n",
              "      <td>0.830645</td>\n",
              "      <td>00:47</td>\n",
              "    </tr>\n",
              "    <tr>\n",
              "      <td>17</td>\n",
              "      <td>0.521591</td>\n",
              "      <td>0.463345</td>\n",
              "      <td>0.866935</td>\n",
              "      <td>00:48</td>\n",
              "    </tr>\n",
              "    <tr>\n",
              "      <td>18</td>\n",
              "      <td>0.488327</td>\n",
              "      <td>0.429697</td>\n",
              "      <td>0.864919</td>\n",
              "      <td>00:47</td>\n",
              "    </tr>\n",
              "    <tr>\n",
              "      <td>19</td>\n",
              "      <td>0.462316</td>\n",
              "      <td>0.429771</td>\n",
              "      <td>0.860887</td>\n",
              "      <td>00:47</td>\n",
              "    </tr>\n",
              "  </tbody>\n",
              "</table>"
            ],
            "text/plain": [
              "<IPython.core.display.HTML object>"
            ]
          },
          "metadata": {
            "tags": []
          }
        }
      ]
    },
    {
      "cell_type": "code",
      "metadata": {
        "id": "eHqqvB_NA2ya"
      },
      "source": [
        "# learn.export('mark2-rs34')"
      ],
      "execution_count": null,
      "outputs": []
    },
    {
      "cell_type": "code",
      "metadata": {
        "colab": {
          "base_uri": "https://localhost:8080/",
          "height": 348
        },
        "id": "qnVexlXwBJnD",
        "outputId": "bd81811e-83f6-44b5-987d-615b128dd344"
      },
      "source": [
        "learn.fit_one_cycle(10)"
      ],
      "execution_count": null,
      "outputs": [
        {
          "output_type": "display_data",
          "data": {
            "text/html": [
              "<table border=\"1\" class=\"dataframe\">\n",
              "  <thead>\n",
              "    <tr style=\"text-align: left;\">\n",
              "      <th>epoch</th>\n",
              "      <th>train_loss</th>\n",
              "      <th>valid_loss</th>\n",
              "      <th>accuracy</th>\n",
              "      <th>time</th>\n",
              "    </tr>\n",
              "  </thead>\n",
              "  <tbody>\n",
              "    <tr>\n",
              "      <td>0</td>\n",
              "      <td>0.451095</td>\n",
              "      <td>0.628383</td>\n",
              "      <td>0.796371</td>\n",
              "      <td>00:48</td>\n",
              "    </tr>\n",
              "    <tr>\n",
              "      <td>1</td>\n",
              "      <td>0.689425</td>\n",
              "      <td>22.806213</td>\n",
              "      <td>0.018145</td>\n",
              "      <td>00:48</td>\n",
              "    </tr>\n",
              "    <tr>\n",
              "      <td>2</td>\n",
              "      <td>0.919918</td>\n",
              "      <td>1.682788</td>\n",
              "      <td>0.524194</td>\n",
              "      <td>00:48</td>\n",
              "    </tr>\n",
              "    <tr>\n",
              "      <td>3</td>\n",
              "      <td>0.904086</td>\n",
              "      <td>1.066139</td>\n",
              "      <td>0.665323</td>\n",
              "      <td>00:48</td>\n",
              "    </tr>\n",
              "    <tr>\n",
              "      <td>4</td>\n",
              "      <td>0.837363</td>\n",
              "      <td>1.088877</td>\n",
              "      <td>0.687500</td>\n",
              "      <td>00:48</td>\n",
              "    </tr>\n",
              "    <tr>\n",
              "      <td>5</td>\n",
              "      <td>0.757076</td>\n",
              "      <td>1.110551</td>\n",
              "      <td>0.655242</td>\n",
              "      <td>00:48</td>\n",
              "    </tr>\n",
              "    <tr>\n",
              "      <td>6</td>\n",
              "      <td>0.660054</td>\n",
              "      <td>0.570731</td>\n",
              "      <td>0.830645</td>\n",
              "      <td>00:48</td>\n",
              "    </tr>\n",
              "    <tr>\n",
              "      <td>7</td>\n",
              "      <td>0.576323</td>\n",
              "      <td>0.480766</td>\n",
              "      <td>0.848790</td>\n",
              "      <td>00:48</td>\n",
              "    </tr>\n",
              "    <tr>\n",
              "      <td>8</td>\n",
              "      <td>0.511594</td>\n",
              "      <td>0.447607</td>\n",
              "      <td>0.862903</td>\n",
              "      <td>00:48</td>\n",
              "    </tr>\n",
              "    <tr>\n",
              "      <td>9</td>\n",
              "      <td>0.455133</td>\n",
              "      <td>0.435142</td>\n",
              "      <td>0.872984</td>\n",
              "      <td>00:48</td>\n",
              "    </tr>\n",
              "  </tbody>\n",
              "</table>"
            ],
            "text/plain": [
              "<IPython.core.display.HTML object>"
            ]
          },
          "metadata": {
            "tags": []
          }
        }
      ]
    },
    {
      "cell_type": "code",
      "metadata": {
        "colab": {
          "base_uri": "https://localhost:8080/",
          "height": 268
        },
        "id": "bOlwhBzKBQwB",
        "outputId": "2fd77dc8-62b6-485e-a85b-9719e0b96272"
      },
      "source": [
        "plt.plot(L(learn.recorder.values).itemgot(2));"
      ],
      "execution_count": null,
      "outputs": [
        {
          "output_type": "display_data",
          "data": {
            "image/png": "[encoded data removed]",
            "text/plain": [
              "<Figure size 432x288 with 1 Axes>"
            ]
          },
          "metadata": {
            "tags": []
          }
        }
      ]
    },
    {
      "cell_type": "code",
      "metadata": {
        "colab": {
          "base_uri": "https://localhost:8080/",
          "height": 268
        },
        "id": "mDNQqJ2VLfYR",
        "outputId": "e5dacc2a-61fe-45f1-b939-628cffdbef42"
      },
      "source": [
        "learn.recorder.plot_loss()\n"
      ],
      "execution_count": null,
      "outputs": [
        {
          "output_type": "display_data",
          "data": {
            "image/png": "[encoded data removed]",
            "text/plain": [
              "<Figure size 432x288 with 1 Axes>"
            ]
          },
          "metadata": {
            "tags": []
          }
        }
      ]
    },
    {
      "cell_type": "code",
      "metadata": {
        "id": "RVCWWsiUB0cH"
      },
      "source": [
        "import torch\n"
      ],
      "execution_count": null,
      "outputs": []
    },
    {
      "cell_type": "code",
      "metadata": {
        "colab": {
          "base_uri": "https://localhost:8080/",
          "height": 35
        },
        "id": "MjUBB_ldB6I4",
        "outputId": "c6610d6c-495c-4880-fab3-e183fb04cf52"
      },
      "source": [
        "os.getcwd()"
      ],
      "execution_count": null,
      "outputs": [
        {
          "output_type": "execute_result",
          "data": {
            "application/vnd.google.colaboratory.intrinsic+json": {
              "type": "string"
            },
            "text/plain": [
              "'/content/drive/My Drive/models'"
            ]
          },
          "metadata": {
            "tags": []
          },
          "execution_count": 20
        }
      ]
    },
    {
      "cell_type": "code",
      "metadata": {
        "colab": {
          "base_uri": "https://localhost:8080/"
        },
        "id": "4k9erWI1B7lJ",
        "outputId": "42018572-777e-4412-d8d6-dd47b529f381"
      },
      "source": [
        "torch.load('mark1-rn50')"
      ],
      "execution_count": 19,
      "outputs": [
        {
          "output_type": "execute_result",
          "data": {
            "text/plain": [
              "<fastai.learner.Learner at 0x7f8773be6a50>"
            ]
          },
          "metadata": {
            "tags": []
          },
          "execution_count": 19
        }
      ]
    },
    {
      "cell_type": "code",
      "metadata": {
        "id": "cgVgCYpaCAWZ"
      },
      "source": [
        "n = torch.load('mark1-rn50')"
      ],
      "execution_count": null,
      "outputs": []
    },
    {
      "cell_type": "code",
      "metadata": {
        "colab": {
          "base_uri": "https://localhost:8080/",
          "height": 158
        },
        "id": "TDkEXFS_CI-b",
        "outputId": "c9d3d53a-612c-456e-b5c2-0d8ba059c016"
      },
      "source": [
        "n.predict('/content/drive/MyDrive/train/00/img001-034.png')"
      ],
      "execution_count": null,
      "outputs": [
        {
          "output_type": "display_data",
          "data": {
            "text/html": [
              ""
            ],
            "text/plain": [
              "<IPython.core.display.HTML object>"
            ]
          },
          "metadata": {
            "tags": []
          }
        },
        {
          "output_type": "execute_result",
          "data": {
            "text/plain": [
              "(\"['06', 'small_z', '00', '00', 'small_z', '00', '01', 'small_z', '01', '01', 'small_z', '00', '01', '00', 'small_z', 'small_y', '01', 'small_x', 'small_z', 'small_z', 'small_w', 'small_z', 'small_y', 'small_y', '01', '00', '01', 'small_y', '00', 'small_z', 'small_z', 'small_z', 'small_z', 'small_x', 'small_y', '00', '03', '00', '03', '00', '04', 'small_z', '01', 'small_y', 'small_z', 'small_z', 'small_y', 'small_z', '00', '01', '06', '00', '02', '00', '04', 'small_z', '00', '00', '01', '00', '00', '02']\",\n",
              " tensor([ 6.1616, -1.2511,  0.6515,  0.5971, -1.9163, -0.4366,  1.7933, -1.9340,  1.4852,  1.8126, -1.1388,  0.9562,  1.2299,  0.9988, -1.6752, -2.1752,  1.8439, -3.6658, -1.1653, -1.1036, -4.4606,\n",
              "         -1.2622, -2.2758, -2.2626,  1.8531,  0.3598,  1.8151, -2.0123,  0.5035, -1.6613, -1.5753, -1.9365, -1.6207, -3.1318, -2.8909, -0.8487,  3.5627, -0.1165,  3.9848, -0.9175,  4.1711, -1.9961,\n",
              "          1.7430, -2.6418, -1.3518, -1.7391, -2.9294, -1.9584,  0.3780,  1.3036,  6.2887,  0.5733,  2.3352, -0.5012,  4.1705, -1.9923, -0.1755,  0.2455,  1.0743, -0.6909, -0.9668,  2.0900]),\n",
              " tensor([ 6.1616, -1.2511,  0.6515,  0.5971, -1.9163, -0.4366,  1.7933, -1.9340,  1.4852,  1.8126, -1.1388,  0.9562,  1.2299,  0.9988, -1.6752, -2.1752,  1.8439, -3.6658, -1.1653, -1.1036, -4.4606,\n",
              "         -1.2622, -2.2758, -2.2626,  1.8531,  0.3598,  1.8151, -2.0123,  0.5035, -1.6613, -1.5753, -1.9365, -1.6207, -3.1318, -2.8909, -0.8487,  3.5627, -0.1165,  3.9848, -0.9175,  4.1711, -1.9961,\n",
              "          1.7430, -2.6418, -1.3518, -1.7391, -2.9294, -1.9584,  0.3780,  1.3036,  6.2887,  0.5733,  2.3352, -0.5012,  4.1705, -1.9923, -0.1755,  0.2455,  1.0743, -0.6909, -0.9668,  2.0900]))"
            ]
          },
          "metadata": {
            "tags": []
          },
          "execution_count": 16
        }
      ]
    },
    {
      "cell_type": "code",
      "metadata": {
        "colab": {
          "base_uri": "https://localhost:8080/"
        },
        "id": "lVvLlcxSCKtK",
        "outputId": "48419e5e-c0e0-4da4-d1fd-2ab17688ddf5"
      },
      "source": [
        "cd models"
      ],
      "execution_count": 14,
      "outputs": [
        {
          "output_type": "stream",
          "text": [
            "/content/drive/My Drive/models\n"
          ],
          "name": "stdout"
        }
      ]
    },
    {
      "cell_type": "code",
      "metadata": {
        "id": "XBQkFPtyDRdc"
      },
      "source": [
        "learn_inf = load_learner('test.pkl')\n"
      ],
      "execution_count": 21,
      "outputs": []
    },
    {
      "cell_type": "code",
      "metadata": {
        "colab": {
          "base_uri": "https://localhost:8080/",
          "height": 157
        },
        "id": "e0eIqcTREFJY",
        "outputId": "a369a991-13e6-4a82-95c7-a4613fb99b5c"
      },
      "source": [
        "pil = PILImage.create('/content/drive/MyDrive/train/M/img023-002.png')\n",
        "learn_inf.predict(pil)"
      ],
      "execution_count": 25,
      "outputs": [
        {
          "output_type": "display_data",
          "data": {
            "text/html": [
              ""
            ],
            "text/plain": [
              "<IPython.core.display.HTML object>"
            ]
          },
          "metadata": {
            "tags": []
          }
        },
        {
          "output_type": "execute_result",
          "data": {
            "text/plain": [
              "(\"['00', '00', 'small_x', 'small_w', '00', 'small_x', 'small_y', 'small_y', 'small_y', '00', '04', '00', 'small_y', '00', 'small_x', 'small_y', 'small_z', '04', 'small_y', 'small_v', '01', 'small_z', 'B', '08', '00', '00', '00', '02', 'small_y', '00', '00', '00', '03', '00', '00', 'small_x', '01', 'small_y', 'small_z', 'small_z', '00', 'small_y', '00', '03', 'small_y', 'small_w', '00', 'small_z', '06', '06', '00', '02', '03', '03', 'small_x', 'small_x', '01', '00', '02', '00', 'small_z', 'small_v']\",\n",
              " tensor([ 0.6146,  0.3988, -3.8104, -4.4452,  0.2931, -3.9598, -2.6426, -2.9577, -2.0958,  0.9821,  4.3216,  0.4178, -2.2929, -0.6644, -3.2411, -2.2352, -1.7870,  4.8624, -2.3239, -5.5669,  1.1655,\n",
              "         -1.9567, 11.9606,  8.0270,  0.8465, -0.4722,  0.6096,  2.0035, -2.5745,  0.6914, -0.0565, -0.9749,  3.1484, -0.2354, -0.3437, -3.4438,  1.5907, -2.2170, -1.8766, -1.6845, -0.4557, -2.9219,\n",
              "          0.1647,  3.4574, -2.1979, -4.7897, -0.3809, -1.7195,  6.4402,  6.5953,  0.7785,  2.3135,  3.1583,  3.0170, -3.2036, -3.3894,  1.3594,  0.6364,  2.0585, -0.9602, -1.3973, -5.5409]),\n",
              " tensor([ 0.6146,  0.3988, -3.8104, -4.4452,  0.2931, -3.9598, -2.6426, -2.9577, -2.0958,  0.9821,  4.3216,  0.4178, -2.2929, -0.6644, -3.2411, -2.2352, -1.7870,  4.8624, -2.3239, -5.5669,  1.1655,\n",
              "         -1.9567, 11.9606,  8.0270,  0.8465, -0.4722,  0.6096,  2.0035, -2.5745,  0.6914, -0.0565, -0.9749,  3.1484, -0.2354, -0.3437, -3.4438,  1.5907, -2.2170, -1.8766, -1.6845, -0.4557, -2.9219,\n",
              "          0.1647,  3.4574, -2.1979, -4.7897, -0.3809, -1.7195,  6.4402,  6.5953,  0.7785,  2.3135,  3.1583,  3.0170, -3.2036, -3.3894,  1.3594,  0.6364,  2.0585, -0.9602, -1.3973, -5.5409]))"
            ]
          },
          "metadata": {
            "tags": []
          },
          "execution_count": 25
        }
      ]
    },
    {
      "cell_type": "code",
      "metadata": {
        "id": "eWAx_wvsEKly"
      },
      "source": [
        "f = plt.imread('/content/drive/MyDrive/train/M/img023-002.png')"
      ],
      "execution_count": null,
      "outputs": []
    },
    {
      "cell_type": "code",
      "metadata": {
        "colab": {
          "base_uri": "https://localhost:8080/"
        },
        "id": "HWN0GfJ7Fn4k",
        "outputId": "578cdd80-02ba-4ac3-b722-d983f482ebdf"
      },
      "source": [
        "len(m[0])\n",
        "torch.argmax(m[2])\n"
      ],
      "execution_count": null,
      "outputs": [
        {
          "output_type": "execute_result",
          "data": {
            "text/plain": [
              "tensor(22)"
            ]
          },
          "metadata": {
            "tags": []
          },
          "execution_count": 59
        }
      ]
    },
    {
      "cell_type": "code",
      "metadata": {
        "colab": {
          "base_uri": "https://localhost:8080/"
        },
        "id": "OjDWFuFaFsZz",
        "outputId": "edba33c8-c00f-472e-f05d-772ae1a892e4"
      },
      "source": [
        "len(m[2])"
      ],
      "execution_count": null,
      "outputs": [
        {
          "output_type": "execute_result",
          "data": {
            "text/plain": [
              "62"
            ]
          },
          "metadata": {
            "tags": []
          },
          "execution_count": 63
        }
      ]
    },
    {
      "cell_type": "code",
      "metadata": {
        "colab": {
          "base_uri": "https://localhost:8080/",
          "height": 35
        },
        "id": "ZPYWaTbaF3oN",
        "outputId": "c5c4c573-c8c1-4c6e-8fa2-d240967e2d16"
      },
      "source": [
        "learn_inf.dls.vocab[61]"
      ],
      "execution_count": null,
      "outputs": [
        {
          "output_type": "execute_result",
          "data": {
            "application/vnd.google.colaboratory.intrinsic+json": {
              "type": "string"
            },
            "text/plain": [
              "'small_z'"
            ]
          },
          "metadata": {
            "tags": []
          },
          "execution_count": 64
        }
      ]
    },
    {
      "cell_type": "markdown",
      "metadata": {
        "id": "LENHJSY9LyK4"
      },
      "source": [
        "VGG Model Test"
      ]
    },
    {
      "cell_type": "code",
      "metadata": {
        "id": "tz5gZFHiLz1z"
      },
      "source": [
        "# #we need to change the fc layers in_features for our custom model.\n",
        "# body = create_body(resnet34, pretrained=False)\n",
        "# head = create_head(nf=512,n_out=62)\n",
        "# model = nn.Sequential(body,head)\n",
        "\n",
        "# # metr = [accuracy]\n",
        "# learn = Learner(dls, model, loss_func=nn.CrossEntropyLoss(),metrics=accuracy)\n",
        "\n",
        "# #find the optimum lr\n",
        "# learn.lr_find()"
      ],
      "execution_count": null,
      "outputs": []
    },
    {
      "cell_type": "code",
      "metadata": {
        "colab": {
          "base_uri": "https://localhost:8080/"
        },
        "id": "i-Y2cICXL7Xu",
        "outputId": "6156e9bd-b578-4803-cdb8-e885183a287f"
      },
      "source": [
        "model = models.vgg11_bn(pretrained=False)\n",
        "model\n"
      ],
      "execution_count": null,
      "outputs": [
        {
          "output_type": "execute_result",
          "data": {
            "text/plain": [
              "VGG(\n",
              "  (features): Sequential(\n",
              "    (0): Conv2d(3, 64, kernel_size=(3, 3), stride=(1, 1), padding=(1, 1))\n",
              "    (1): BatchNorm2d(64, eps=1e-05, momentum=0.1, affine=True, track_running_stats=True)\n",
              "    (2): ReLU(inplace=True)\n",
              "    (3): Conv2d(64, 64, kernel_size=(3, 3), stride=(1, 1), padding=(1, 1))\n",
              "    (4): BatchNorm2d(64, eps=1e-05, momentum=0.1, affine=True, track_running_stats=True)\n",
              "    (5): ReLU(inplace=True)\n",
              "    (6): MaxPool2d(kernel_size=2, stride=2, padding=0, dilation=1, ceil_mode=False)\n",
              "    (7): Conv2d(64, 128, kernel_size=(3, 3), stride=(1, 1), padding=(1, 1))\n",
              "    (8): BatchNorm2d(128, eps=1e-05, momentum=0.1, affine=True, track_running_stats=True)\n",
              "    (9): ReLU(inplace=True)\n",
              "    (10): Conv2d(128, 128, kernel_size=(3, 3), stride=(1, 1), padding=(1, 1))\n",
              "    (11): BatchNorm2d(128, eps=1e-05, momentum=0.1, affine=True, track_running_stats=True)\n",
              "    (12): ReLU(inplace=True)\n",
              "    (13): MaxPool2d(kernel_size=2, stride=2, padding=0, dilation=1, ceil_mode=False)\n",
              "    (14): Conv2d(128, 256, kernel_size=(3, 3), stride=(1, 1), padding=(1, 1))\n",
              "    (15): BatchNorm2d(256, eps=1e-05, momentum=0.1, affine=True, track_running_stats=True)\n",
              "    (16): ReLU(inplace=True)\n",
              "    (17): Conv2d(256, 256, kernel_size=(3, 3), stride=(1, 1), padding=(1, 1))\n",
              "    (18): BatchNorm2d(256, eps=1e-05, momentum=0.1, affine=True, track_running_stats=True)\n",
              "    (19): ReLU(inplace=True)\n",
              "    (20): MaxPool2d(kernel_size=2, stride=2, padding=0, dilation=1, ceil_mode=False)\n",
              "    (21): Conv2d(256, 512, kernel_size=(3, 3), stride=(1, 1), padding=(1, 1))\n",
              "    (22): BatchNorm2d(512, eps=1e-05, momentum=0.1, affine=True, track_running_stats=True)\n",
              "    (23): ReLU(inplace=True)\n",
              "    (24): Conv2d(512, 512, kernel_size=(3, 3), stride=(1, 1), padding=(1, 1))\n",
              "    (25): BatchNorm2d(512, eps=1e-05, momentum=0.1, affine=True, track_running_stats=True)\n",
              "    (26): ReLU(inplace=True)\n",
              "    (27): MaxPool2d(kernel_size=2, stride=2, padding=0, dilation=1, ceil_mode=False)\n",
              "    (28): Conv2d(512, 512, kernel_size=(3, 3), stride=(1, 1), padding=(1, 1))\n",
              "    (29): BatchNorm2d(512, eps=1e-05, momentum=0.1, affine=True, track_running_stats=True)\n",
              "    (30): ReLU(inplace=True)\n",
              "    (31): Conv2d(512, 512, kernel_size=(3, 3), stride=(1, 1), padding=(1, 1))\n",
              "    (32): BatchNorm2d(512, eps=1e-05, momentum=0.1, affine=True, track_running_stats=True)\n",
              "    (33): ReLU(inplace=True)\n",
              "    (34): MaxPool2d(kernel_size=2, stride=2, padding=0, dilation=1, ceil_mode=False)\n",
              "  )\n",
              "  (avgpool): AdaptiveAvgPool2d(output_size=(7, 7))\n",
              "  (classifier): Sequential(\n",
              "    (0): Linear(in_features=25088, out_features=4096, bias=True)\n",
              "    (1): ReLU(inplace=True)\n",
              "    (2): Dropout(p=0.5, inplace=False)\n",
              "    (3): Linear(in_features=4096, out_features=4096, bias=True)\n",
              "    (4): ReLU(inplace=True)\n",
              "    (5): Dropout(p=0.5, inplace=False)\n",
              "    (6): Linear(in_features=4096, out_features=1000, bias=True)\n",
              "  )\n",
              ")"
            ]
          },
          "metadata": {
            "tags": []
          },
          "execution_count": 95
        }
      ]
    },
    {
      "cell_type": "markdown",
      "metadata": {
        "id": "Zivg7ZLVeyYA"
      },
      "source": [
        "CUSTOM PYTORCH MODEL FOR MNIST"
      ]
    },
    {
      "cell_type": "code",
      "metadata": {
        "id": "Ti3bnd5Ke011"
      },
      "source": [
        "#starting with the basis model:\n",
        "import torch \n",
        "from torch import optim\n",
        "from torch import nn\n",
        "from torchvision import datasets, transforms\n",
        "from torch.utils.data import random_split, DataLoader"
      ],
      "execution_count": 1,
      "outputs": []
    },
    {
      "cell_type": "code",
      "metadata": {
        "id": "hnyq_C4FrGLf"
      },
      "source": [
        "#ResNet\n",
        "class ResNet(nn.Module):\n",
        "  def __init__(self):\n",
        "    super().__init__()\n",
        "    self.l1 = nn.Linear(224*224,64)\n",
        "    self.l2 = nn.Linear(64,64)\n",
        "    self.l3 = nn.Linear(64,10)\n",
        "    self.do = nn.Dropout(0.1)\n",
        "  \n",
        "  def forward(self, x):\n",
        "    h1 = nn.functional.relu(self.l1(x))\n",
        "    h2 = nn.functional.relu(self.l2(h1))\n",
        "    do = self.do(h2 + h1)\n",
        "    logits = self.l3(do)\n",
        "    return logits\n",
        "  \n",
        "model = ResNet().cuda()"
      ],
      "execution_count": 39,
      "outputs": []
    },
    {
      "cell_type": "code",
      "metadata": {
        "id": "J8UPaOoqrNHV"
      },
      "source": [
        "#optimizer\n",
        "optimizer = optim.SGD(model.parameters(),lr=1e-2)\n",
        "#Loss\n",
        "loss = nn.CrossEntropyLoss()"
      ],
      "execution_count": 40,
      "outputs": []
    },
    {
      "cell_type": "code",
      "metadata": {
        "id": "oZByUhfUrSH9"
      },
      "source": [
        "#train, val slit\n",
        "# train_data = None\n",
        "# train, val = random_split(train_data, [55000,5000])\n",
        "# train_loader = DataLoader(train, batch_size=32)\n",
        "# val_loader = DataLoader(val, batch_size=32)"
      ],
      "execution_count": 41,
      "outputs": []
    },
    {
      "cell_type": "code",
      "metadata": {
        "id": "ABjSRD_RrTjO"
      },
      "source": [
        "#My Training and validation loops \n",
        "nb_epochs = 10\n",
        "for epoch in range(nb_eopchs):\n",
        "    losses = list()\n",
        "    accuracies = list()\n",
        "    model.train() #because we use dropout\n",
        "    for batch in train_loader:\n",
        "      x,y = batch\n",
        "      #tranform to pass to linear layer\n",
        "      b = x.size(0)\n",
        "      x = x.view(b,-1).cuda()\n",
        "\n",
        "      #logit\n",
        "      l = model(x)\n",
        "      \n",
        "      #compute the objective function, measure the task for classification\n",
        "      J = loss(l,y).cuda()\n",
        "\n",
        "      #cleaning the gradient\n",
        "      model.zero_grad()\n",
        "      # optimizer.zero_grad()\n",
        "\n",
        "      #compute the partial derivative WRT params\n",
        "      J.backward()\n",
        "\n",
        "      #step in the opposite direction of gradient\n",
        "      optimizer.step()\n",
        "\n",
        "      losses.append(J.item())\n",
        "      accuracies.append(y.eq(l.detach().argmax(dim=1).cpu()).float().mean())\n",
        "\n",
        "    print(f'Epoch {epoch+1}', end=', ')\n",
        "    print(f'validation loss: {torch.tensor(losses).mean():.2f}',end=',')\n",
        "    print(f'validation accuracy: {torch.tensor(accuracies).mean():.2f}')\n",
        "\n",
        "\n",
        "    losses = list()\n",
        "    accurcies = list()\n",
        "    for batch in val_loader:\n",
        "      x,y = batch\n",
        "      #tranform to pass to linear layer\n",
        "      b = x.size(0)\n",
        "      x = x.view(b,-1).cuda()\n",
        "\n",
        "      #logit\n",
        "      with torch.no_grad():\n",
        "        l = model(x)\n",
        "      \n",
        "      #compute the objective function, measure the task for classification\n",
        "      J = loss(l,y.cuda())\n",
        "      losses.append(J.item())\n",
        "      accuracies.append(y.eq(l.detach().argmax(dim=1).cpu()).float().mean())\n",
        "  \n",
        "    print(f'Epoch {epoch+1}', end=', ')\n",
        "    print(f'validation loss: {torch.tensor(losses).mean():.2f}',end=',')\n",
        "    print(f'validation accuracy: {torch.tensor(accuracies).mean():.2f}')"
      ],
      "execution_count": null,
      "outputs": []
    },
    {
      "cell_type": "code",
      "metadata": {
        "id": "0zZdj6crzkPv"
      },
      "source": [
        "path = untar_data('https://drive.google.com/file/d/1l7YWv1RXSXkdb4RN_HA2WuQPAgeIBN1p/')"
      ],
      "execution_count": 16,
      "outputs": []
    },
    {
      "cell_type": "code",
      "metadata": {
        "colab": {
          "base_uri": "https://localhost:8080/"
        },
        "id": "ZLfULeZR1rAN",
        "outputId": "0befb8a1-acd4-40f9-c100-0680cfe4f16d"
      },
      "source": [
        "!wget('https://www.dropbox.com/s/otc12z2w7f7xm8z/mnistTask3.zip?dl=0')"
      ],
      "execution_count": 20,
      "outputs": [
        {
          "output_type": "stream",
          "text": [
            "/bin/bash: -c: line 0: syntax error near unexpected token `'https://www.dropbox.com/s/otc12z2w7f7xm8z/mnistTask3.zip?dl=0''\n",
            "/bin/bash: -c: line 0: `wget('https://www.dropbox.com/s/otc12z2w7f7xm8z/mnistTask3.zip?dl=0')'\n"
          ],
          "name": "stdout"
        }
      ]
    },
    {
      "cell_type": "code",
      "metadata": {
        "colab": {
          "base_uri": "https://localhost:8080/"
        },
        "id": "ZQfEqjBk1wDW",
        "outputId": "11675b44-a506-473f-ebdc-5183ecad15af"
      },
      "source": [
        "!wget https://www.dropbox.com/s/otc12z2w7f7xm8z/mnistTask3.zip?dl=0"
      ],
      "execution_count": 21,
      "outputs": [
        {
          "output_type": "stream",
          "text": [
            "--2021-04-10 17:31:59--  https://www.dropbox.com/s/otc12z2w7f7xm8z/mnistTask3.zip?dl=0\n",
            "Resolving www.dropbox.com (www.dropbox.com)... 162.125.1.18, 2620:100:601a:18::a27d:712\n",
            "Connecting to www.dropbox.com (www.dropbox.com)|162.125.1.18|:443... connected.\n",
            "HTTP request sent, awaiting response... 301 Moved Permanently\n",
            "Location: /s/raw/otc12z2w7f7xm8z/mnistTask3.zip [following]\n",
            "--2021-04-10 17:31:59--  https://www.dropbox.com/s/raw/otc12z2w7f7xm8z/mnistTask3.zip\n",
            "Reusing existing connection to www.dropbox.com:443.\n",
            "HTTP request sent, awaiting response... 302 Found\n",
            "Location: https://uc4422cf55af805ad73a2b7366c6.dl.dropboxusercontent.com/cd/0/inline/BMXjVpv06S_TDzTbvafWhNno7-18yoPpo3SzVUb8HldNPEQB5vpQsv7CK-TqMhUmo_1ERUAjHWj3hI1Q4oiwX8ancOCA5Pj7BCmrEv5dDQDTu2Mww3qNezDWNtTY-t7dkdZScWLK6U0kTgBu1AvH7u5K/file# [following]\n",
            "--2021-04-10 17:31:59--  https://uc4422cf55af805ad73a2b7366c6.dl.dropboxusercontent.com/cd/0/inline/BMXjVpv06S_TDzTbvafWhNno7-18yoPpo3SzVUb8HldNPEQB5vpQsv7CK-TqMhUmo_1ERUAjHWj3hI1Q4oiwX8ancOCA5Pj7BCmrEv5dDQDTu2Mww3qNezDWNtTY-t7dkdZScWLK6U0kTgBu1AvH7u5K/file\n",
            "Resolving uc4422cf55af805ad73a2b7366c6.dl.dropboxusercontent.com (uc4422cf55af805ad73a2b7366c6.dl.dropboxusercontent.com)... 162.125.1.15, 2620:100:601a:15::a27d:70f\n",
            "Connecting to uc4422cf55af805ad73a2b7366c6.dl.dropboxusercontent.com (uc4422cf55af805ad73a2b7366c6.dl.dropboxusercontent.com)|162.125.1.15|:443... connected.\n",
            "HTTP request sent, awaiting response... 302 Found\n",
            "Location: /cd/0/inline2/BMX78JPJq-Sv5zibVODaA3S1X0xO0KESx1Xo3LPPU4qs6_vOgJfFQhD2fByddQ7UzAzz1e6-_r-iKEiLB96M304u-HvbtNa3dnayB9BsTkbIBla3-i_c0qTkL011I7kAq8am1vZccf37Ny7gJL0PqOG0YmQiRlzToGGMDiEeVBBDQMzC27klk2jM3zw7I_0fDlJU2pBMDv9N19-mNaSaRNFK1A-WHURDc43P7_FCMdsTLr6N2z8V5O42W_R0xTNFWO4E6VeOkaOAemC_EilPltwLd1VXM-aBRccNO2Z5QAfSaFN3zhn762HRtc8CHqWUZ1Yam1xRJizL4CnA5ie-jcdg85NrHY3ZoS5e0V427PTw6ufKlj1GNgDmHn32lyKRb5A/file [following]\n",
            "--2021-04-10 17:32:00--  https://uc4422cf55af805ad73a2b7366c6.dl.dropboxusercontent.com/cd/0/inline2/BMX78JPJq-Sv5zibVODaA3S1X0xO0KESx1Xo3LPPU4qs6_vOgJfFQhD2fByddQ7UzAzz1e6-_r-iKEiLB96M304u-HvbtNa3dnayB9BsTkbIBla3-i_c0qTkL011I7kAq8am1vZccf37Ny7gJL0PqOG0YmQiRlzToGGMDiEeVBBDQMzC27klk2jM3zw7I_0fDlJU2pBMDv9N19-mNaSaRNFK1A-WHURDc43P7_FCMdsTLr6N2z8V5O42W_R0xTNFWO4E6VeOkaOAemC_EilPltwLd1VXM-aBRccNO2Z5QAfSaFN3zhn762HRtc8CHqWUZ1Yam1xRJizL4CnA5ie-jcdg85NrHY3ZoS5e0V427PTw6ufKlj1GNgDmHn32lyKRb5A/file\n",
            "Reusing existing connection to uc4422cf55af805ad73a2b7366c6.dl.dropboxusercontent.com:443.\n",
            "HTTP request sent, awaiting response... 200 OK\n",
            "Length: 44683816 (43M) [application/zip]\n",
            "Saving to: ‘mnistTask3.zip?dl=0’\n",
            "\n",
            "mnistTask3.zip?dl=0 100%[===================>]  42.61M  94.1MB/s    in 0.5s    \n",
            "\n",
            "2021-04-10 17:32:01 (94.1 MB/s) - ‘mnistTask3.zip?dl=0’ saved [44683816/44683816]\n",
            "\n"
          ],
          "name": "stdout"
        }
      ]
    },
    {
      "cell_type": "code",
      "metadata": {
        "colab": {
          "base_uri": "https://localhost:8080/"
        },
        "id": "dlSVYwFw1yIP",
        "outputId": "0218f063-44fc-4133-9ffe-7beee04a4852"
      },
      "source": [
        "ls"
      ],
      "execution_count": 22,
      "outputs": [
        {
          "output_type": "stream",
          "text": [
            " \u001b[0m\u001b[01;34mdrive\u001b[0m/  'mnistTask3.zip?dl=0'   \u001b[01;34msample_data\u001b[0m/\n"
          ],
          "name": "stdout"
        }
      ]
    },
    {
      "cell_type": "code",
      "metadata": {
        "colab": {
          "base_uri": "https://localhost:8080/"
        },
        "id": "vWMc3HNf12H_",
        "outputId": "e93a4ef5-bebf-4fee-ff27-38d1e708c3f0"
      },
      "source": [
        "!unrar mnistTask3.zip"
      ],
      "execution_count": 23,
      "outputs": [
        {
          "output_type": "stream",
          "text": [
            "\n",
            "UNRAR 5.50 freeware      Copyright (c) 1993-2017 Alexander Roshal\n",
            "\n",
            "Usage:     unrar <command> -<switch 1> -<switch N> <archive> <files...>\n",
            "               <@listfiles...> <path_to_extract\\>\n",
            "\n",
            "<Commands>\n",
            "  e             Extract files without archived paths\n",
            "  l[t[a],b]     List archive contents [technical[all], bare]\n",
            "  p             Print file to stdout\n",
            "  t             Test archive files\n",
            "  v[t[a],b]     Verbosely list archive contents [technical[all],bare]\n",
            "  x             Extract files with full path\n",
            "\n",
            "<Switches>\n",
            "  -             Stop switches scanning\n",
            "  @[+]          Disable [enable] file lists\n",
            "  ad            Append archive name to destination path\n",
            "  ag[format]    Generate archive name using the current date\n",
            "  ai            Ignore file attributes\n",
            "  ap<path>      Set path inside archive\n",
            "  c-            Disable comments show\n",
            "  cfg-          Disable read configuration\n",
            "  cl            Convert names to lower case\n",
            "  cu            Convert names to upper case\n",
            "  dh            Open shared files\n",
            "  ep            Exclude paths from names\n",
            "  ep3           Expand paths to full including the drive letter\n",
            "  f             Freshen files\n",
            "  id[c,d,p,q]   Disable messages\n",
            "  ierr          Send all messages to stderr\n",
            "  inul          Disable all messages\n",
            "  kb            Keep broken extracted files\n",
            "  n<file>       Additionally filter included files\n",
            "  n@            Read additional filter masks from stdin\n",
            "  n@<list>      Read additional filter masks from list file\n",
            "  o[+|-]        Set the overwrite mode\n",
            "  ol[a]         Process symbolic links as the link [absolute paths]\n",
            "  or            Rename files automatically\n",
            "  ow            Save or restore file owner and group\n",
            "  p[password]   Set password\n",
            "  p-            Do not query password\n",
            "  r             Recurse subdirectories\n",
            "  sc<chr>[obj]  Specify the character set\n",
            "  sl<size>      Process files with size less than specified\n",
            "  sm<size>      Process files with size more than specified\n",
            "  ta<date>      Process files modified after <date> in YYYYMMDDHHMMSS format\n",
            "  tb<date>      Process files modified before <date> in YYYYMMDDHHMMSS format\n",
            "  tn<time>      Process files newer than <time>\n",
            "  to<time>      Process files older than <time>\n",
            "  ts[m|c|a]     Save or restore file time (modification, creation, access)\n",
            "  u             Update files\n",
            "  v             List all volumes\n",
            "  ver[n]        File version control\n",
            "  vp            Pause before each volume\n",
            "  x<file>       Exclude specified file\n",
            "  x@            Read file names to exclude from stdin\n",
            "  x@<list>      Exclude files listed in specified list file\n",
            "  y             Assume Yes on all queries\n"
          ],
          "name": "stdout"
        }
      ]
    },
    {
      "cell_type": "code",
      "metadata": {
        "colab": {
          "base_uri": "https://localhost:8080/"
        },
        "id": "iKXAh2mS2BXJ",
        "outputId": "e25695c8-8f52-49a3-8331-58edd0e23c4f"
      },
      "source": [
        "!unrar mnistTask3.zip?dl=0"
      ],
      "execution_count": 24,
      "outputs": [
        {
          "output_type": "stream",
          "text": [
            "\n",
            "UNRAR 5.50 freeware      Copyright (c) 1993-2017 Alexander Roshal\n",
            "\n",
            "Usage:     unrar <command> -<switch 1> -<switch N> <archive> <files...>\n",
            "               <@listfiles...> <path_to_extract\\>\n",
            "\n",
            "<Commands>\n",
            "  e             Extract files without archived paths\n",
            "  l[t[a],b]     List archive contents [technical[all], bare]\n",
            "  p             Print file to stdout\n",
            "  t             Test archive files\n",
            "  v[t[a],b]     Verbosely list archive contents [technical[all],bare]\n",
            "  x             Extract files with full path\n",
            "\n",
            "<Switches>\n",
            "  -             Stop switches scanning\n",
            "  @[+]          Disable [enable] file lists\n",
            "  ad            Append archive name to destination path\n",
            "  ag[format]    Generate archive name using the current date\n",
            "  ai            Ignore file attributes\n",
            "  ap<path>      Set path inside archive\n",
            "  c-            Disable comments show\n",
            "  cfg-          Disable read configuration\n",
            "  cl            Convert names to lower case\n",
            "  cu            Convert names to upper case\n",
            "  dh            Open shared files\n",
            "  ep            Exclude paths from names\n",
            "  ep3           Expand paths to full including the drive letter\n",
            "  f             Freshen files\n",
            "  id[c,d,p,q]   Disable messages\n",
            "  ierr          Send all messages to stderr\n",
            "  inul          Disable all messages\n",
            "  kb            Keep broken extracted files\n",
            "  n<file>       Additionally filter included files\n",
            "  n@            Read additional filter masks from stdin\n",
            "  n@<list>      Read additional filter masks from list file\n",
            "  o[+|-]        Set the overwrite mode\n",
            "  ol[a]         Process symbolic links as the link [absolute paths]\n",
            "  or            Rename files automatically\n",
            "  ow            Save or restore file owner and group\n",
            "  p[password]   Set password\n",
            "  p-            Do not query password\n",
            "  r             Recurse subdirectories\n",
            "  sc<chr>[obj]  Specify the character set\n",
            "  sl<size>      Process files with size less than specified\n",
            "  sm<size>      Process files with size more than specified\n",
            "  ta<date>      Process files modified after <date> in YYYYMMDDHHMMSS format\n",
            "  tb<date>      Process files modified before <date> in YYYYMMDDHHMMSS format\n",
            "  tn<time>      Process files newer than <time>\n",
            "  to<time>      Process files older than <time>\n",
            "  ts[m|c|a]     Save or restore file time (modification, creation, access)\n",
            "  u             Update files\n",
            "  v             List all volumes\n",
            "  ver[n]        File version control\n",
            "  vp            Pause before each volume\n",
            "  x<file>       Exclude specified file\n",
            "  x@            Read file names to exclude from stdin\n",
            "  x@<list>      Exclude files listed in specified list file\n",
            "  y             Assume Yes on all queries\n"
          ],
          "name": "stdout"
        }
      ]
    },
    {
      "cell_type": "code",
      "metadata": {
        "colab": {
          "base_uri": "https://localhost:8080/"
        },
        "id": "Ht9sWLUo2psW",
        "outputId": "c2080121-96b0-43c3-bc22-c3d3ca54f662"
      },
      "source": [
        "ls"
      ],
      "execution_count": 25,
      "outputs": [
        {
          "output_type": "stream",
          "text": [
            " \u001b[0m\u001b[01;34mdrive\u001b[0m/  'mnistTask3.zip?dl=0'   \u001b[01;34msample_data\u001b[0m/\n"
          ],
          "name": "stdout"
        }
      ]
    },
    {
      "cell_type": "code",
      "metadata": {
        "colab": {
          "base_uri": "https://localhost:8080/"
        },
        "id": "wiq_r1dH2yfG",
        "outputId": "3a4318de-a889-418b-a22e-b5aa87dbdc50"
      },
      "source": [
        "ls"
      ],
      "execution_count": 28,
      "outputs": [
        {
          "output_type": "stream",
          "text": [
            " \u001b[0m\u001b[01;34mdrive\u001b[0m/   \u001b[01;34mmnistTask\u001b[0m/  'mnistTask3.zip?dl=0'   \u001b[01;34msample_data\u001b[0m/\n"
          ],
          "name": "stdout"
        }
      ]
    },
    {
      "cell_type": "code",
      "metadata": {
        "colab": {
          "base_uri": "https://localhost:8080/"
        },
        "id": "2cixdZlu218j",
        "outputId": "3a95e72d-32f0-4953-d69d-b4164f80fd5c"
      },
      "source": [
        "!pwd"
      ],
      "execution_count": 29,
      "outputs": [
        {
          "output_type": "stream",
          "text": [
            "/content\n"
          ],
          "name": "stdout"
        }
      ]
    },
    {
      "cell_type": "code",
      "metadata": {
        "id": "3rxMtNHM24pP"
      },
      "source": [
        "path = '/content/mnistTask/'"
      ],
      "execution_count": 31,
      "outputs": []
    },
    {
      "cell_type": "code",
      "metadata": {
        "id": "RD6JGAug2-Do"
      },
      "source": [
        "AlphaNumeric = DataBlock(\n",
        "    blocks=(ImageBlock, CategoryBlock), \n",
        "    get_items=get_image_files, \n",
        "    splitter=RandomSplitter(valid_pct=0.2, seed=42),\n",
        "    get_y=parent_label,\n",
        "    item_tfms=Resize(460),\n",
        "    batch_tfms=aug_transforms(size=224, min_scale=0.75)\n",
        ")"
      ],
      "execution_count": 32,
      "outputs": []
    },
    {
      "cell_type": "code",
      "metadata": {
        "id": "KgckatrK3I7R"
      },
      "source": [
        "dls = AlphaNumeric.dataloaders(path)"
      ],
      "execution_count": 33,
      "outputs": []
    },
    {
      "cell_type": "code",
      "metadata": {
        "colab": {
          "base_uri": "https://localhost:8080/"
        },
        "id": "VzU4Rtsz3NXC",
        "outputId": "49f1d64f-4059-437f-b037-b5187e3f7106"
      },
      "source": [
        "dls.one_batch()"
      ],
      "execution_count": 34,
      "outputs": [
        {
          "output_type": "execute_result",
          "data": {
            "text/plain": [
              "(TensorImage([[[[1.1323e-07, 1.1323e-07, 1.1323e-07,  ..., 2.0839e-02, 2.6252e-02, 3.1955e-02],\n",
              "           [1.1323e-07, 1.1323e-07, 1.1323e-07,  ..., 2.2574e-02, 2.3790e-02, 2.8467e-02],\n",
              "           [1.1323e-07, 1.1323e-07, 1.1323e-07,  ..., 2.2684e-02, 2.2890e-02, 2.5592e-02],\n",
              "           ...,\n",
              "           [1.1323e-07, 1.1323e-07, 1.1323e-07,  ..., 1.1323e-07, 1.1323e-07, 1.1323e-07],\n",
              "           [1.1323e-07, 1.1323e-07, 1.1323e-07,  ..., 1.1323e-07, 1.1323e-07, 1.1323e-07],\n",
              "           [1.1323e-07, 1.1323e-07, 1.1323e-07,  ..., 1.1323e-07, 1.1323e-07, 1.1323e-07]],\n",
              " \n",
              "          [[1.1323e-07, 1.1323e-07, 1.1323e-07,  ..., 2.0839e-02, 2.6252e-02, 3.1955e-02],\n",
              "           [1.1323e-07, 1.1323e-07, 1.1323e-07,  ..., 2.2574e-02, 2.3790e-02, 2.8467e-02],\n",
              "           [1.1323e-07, 1.1323e-07, 1.1323e-07,  ..., 2.2684e-02, 2.2890e-02, 2.5592e-02],\n",
              "           ...,\n",
              "           [1.1323e-07, 1.1323e-07, 1.1323e-07,  ..., 1.1323e-07, 1.1323e-07, 1.1323e-07],\n",
              "           [1.1323e-07, 1.1323e-07, 1.1323e-07,  ..., 1.1323e-07, 1.1323e-07, 1.1323e-07],\n",
              "           [1.1323e-07, 1.1323e-07, 1.1323e-07,  ..., 1.1323e-07, 1.1323e-07, 1.1323e-07]],\n",
              " \n",
              "          [[1.1323e-07, 1.1323e-07, 1.1323e-07,  ..., 2.0839e-02, 2.6252e-02, 3.1955e-02],\n",
              "           [1.1323e-07, 1.1323e-07, 1.1323e-07,  ..., 2.2574e-02, 2.3790e-02, 2.8467e-02],\n",
              "           [1.1323e-07, 1.1323e-07, 1.1323e-07,  ..., 2.2684e-02, 2.2890e-02, 2.5592e-02],\n",
              "           ...,\n",
              "           [1.1323e-07, 1.1323e-07, 1.1323e-07,  ..., 1.1323e-07, 1.1323e-07, 1.1323e-07],\n",
              "           [1.1323e-07, 1.1323e-07, 1.1323e-07,  ..., 1.1323e-07, 1.1323e-07, 1.1323e-07],\n",
              "           [1.1323e-07, 1.1323e-07, 1.1323e-07,  ..., 1.1323e-07, 1.1323e-07, 1.1323e-07]]],\n",
              " \n",
              " \n",
              "         [[[3.5567e-02, 3.5567e-02, 3.9483e-02,  ..., 1.3066e-07, 1.3066e-07, 1.3066e-07],\n",
              "           [3.5567e-02, 3.9837e-02, 4.3460e-02,  ..., 1.3066e-07, 1.3066e-07, 1.3066e-07],\n",
              "           [3.8337e-02, 4.0561e-02, 4.4842e-02,  ..., 1.3066e-07, 1.3066e-07, 1.3066e-07],\n",
              "           ...,\n",
              "           [1.3066e-07, 1.3066e-07, 1.3066e-07,  ..., 2.2127e-02, 2.1554e-02, 2.6068e-02],\n",
              "           [1.3066e-07, 1.3066e-07, 1.3066e-07,  ..., 2.8013e-02, 2.6083e-02, 3.0108e-02],\n",
              "           [1.3066e-07, 1.3066e-07, 1.3066e-07,  ..., 3.0603e-02, 3.0523e-02, 3.2411e-02]],\n",
              " \n",
              "          [[3.5567e-02, 3.5567e-02, 3.9483e-02,  ..., 1.3066e-07, 1.3066e-07, 1.3066e-07],\n",
              "           [3.5567e-02, 3.9837e-02, 4.3460e-02,  ..., 1.3066e-07, 1.3066e-07, 1.3066e-07],\n",
              "           [3.8337e-02, 4.0561e-02, 4.4842e-02,  ..., 1.3066e-07, 1.3066e-07, 1.3066e-07],\n",
              "           ...,\n",
              "           [1.3066e-07, 1.3066e-07, 1.3066e-07,  ..., 2.2127e-02, 2.1554e-02, 2.6068e-02],\n",
              "           [1.3066e-07, 1.3066e-07, 1.3066e-07,  ..., 2.8013e-02, 2.6083e-02, 3.0108e-02],\n",
              "           [1.3066e-07, 1.3066e-07, 1.3066e-07,  ..., 3.0603e-02, 3.0523e-02, 3.2411e-02]],\n",
              " \n",
              "          [[3.5567e-02, 3.5567e-02, 3.9483e-02,  ..., 1.3066e-07, 1.3066e-07, 1.3066e-07],\n",
              "           [3.5567e-02, 3.9837e-02, 4.3460e-02,  ..., 1.3066e-07, 1.3066e-07, 1.3066e-07],\n",
              "           [3.8337e-02, 4.0561e-02, 4.4842e-02,  ..., 1.3066e-07, 1.3066e-07, 1.3066e-07],\n",
              "           ...,\n",
              "           [1.3066e-07, 1.3066e-07, 1.3066e-07,  ..., 2.2127e-02, 2.1554e-02, 2.6068e-02],\n",
              "           [1.3066e-07, 1.3066e-07, 1.3066e-07,  ..., 2.8013e-02, 2.6083e-02, 3.0108e-02],\n",
              "           [1.3066e-07, 1.3066e-07, 1.3066e-07,  ..., 3.0603e-02, 3.0523e-02, 3.2411e-02]]],\n",
              " \n",
              " \n",
              "         [[[3.9570e-09, 3.9570e-09, 3.9570e-09,  ..., 3.9570e-09, 3.9570e-09, 3.9570e-09],\n",
              "           [3.9570e-09, 3.9570e-09, 3.9570e-09,  ..., 3.9570e-09, 3.9570e-09, 3.9570e-09],\n",
              "           [3.9570e-09, 3.9570e-09, 3.9570e-09,  ..., 3.9570e-09, 3.9570e-09, 3.9570e-09],\n",
              "           ...,\n",
              "           [3.9570e-09, 3.9570e-09, 3.9570e-09,  ..., 3.9570e-09, 3.9570e-09, 3.9570e-09],\n",
              "           [3.9570e-09, 3.9570e-09, 3.9570e-09,  ..., 3.9570e-09, 3.9570e-09, 3.9570e-09],\n",
              "           [3.9570e-09, 3.9570e-09, 3.9570e-09,  ..., 3.9570e-09, 3.9570e-09, 3.9570e-09]],\n",
              " \n",
              "          [[3.9570e-09, 3.9570e-09, 3.9570e-09,  ..., 3.9570e-09, 3.9570e-09, 3.9570e-09],\n",
              "           [3.9570e-09, 3.9570e-09, 3.9570e-09,  ..., 3.9570e-09, 3.9570e-09, 3.9570e-09],\n",
              "           [3.9570e-09, 3.9570e-09, 3.9570e-09,  ..., 3.9570e-09, 3.9570e-09, 3.9570e-09],\n",
              "           ...,\n",
              "           [3.9570e-09, 3.9570e-09, 3.9570e-09,  ..., 3.9570e-09, 3.9570e-09, 3.9570e-09],\n",
              "           [3.9570e-09, 3.9570e-09, 3.9570e-09,  ..., 3.9570e-09, 3.9570e-09, 3.9570e-09],\n",
              "           [3.9570e-09, 3.9570e-09, 3.9570e-09,  ..., 3.9570e-09, 3.9570e-09, 3.9570e-09]],\n",
              " \n",
              "          [[3.9570e-09, 3.9570e-09, 3.9570e-09,  ..., 3.9570e-09, 3.9570e-09, 3.9570e-09],\n",
              "           [3.9570e-09, 3.9570e-09, 3.9570e-09,  ..., 3.9570e-09, 3.9570e-09, 3.9570e-09],\n",
              "           [3.9570e-09, 3.9570e-09, 3.9570e-09,  ..., 3.9570e-09, 3.9570e-09, 3.9570e-09],\n",
              "           ...,\n",
              "           [3.9570e-09, 3.9570e-09, 3.9570e-09,  ..., 3.9570e-09, 3.9570e-09, 3.9570e-09],\n",
              "           [3.9570e-09, 3.9570e-09, 3.9570e-09,  ..., 3.9570e-09, 3.9570e-09, 3.9570e-09],\n",
              "           [3.9570e-09, 3.9570e-09, 3.9570e-09,  ..., 3.9570e-09, 3.9570e-09, 3.9570e-09]]],\n",
              " \n",
              " \n",
              "         ...,\n",
              " \n",
              " \n",
              "         [[[1.5006e-07, 1.5006e-07, 1.5006e-07,  ..., 1.5006e-07, 1.5006e-07, 1.5006e-07],\n",
              "           [1.5006e-07, 1.5006e-07, 1.5006e-07,  ..., 1.5006e-07, 1.5006e-07, 1.5006e-07],\n",
              "           [1.5006e-07, 1.5006e-07, 1.5006e-07,  ..., 1.5006e-07, 1.5006e-07, 1.5006e-07],\n",
              "           ...,\n",
              "           [1.5006e-07, 1.5006e-07, 1.5006e-07,  ..., 1.5006e-07, 1.5006e-07, 1.5006e-07],\n",
              "           [1.5006e-07, 1.5006e-07, 1.5006e-07,  ..., 1.5006e-07, 1.5006e-07, 1.5006e-07],\n",
              "           [1.5006e-07, 1.5006e-07, 1.5006e-07,  ..., 1.5006e-07, 1.5006e-07, 1.5006e-07]],\n",
              " \n",
              "          [[1.5006e-07, 1.5006e-07, 1.5006e-07,  ..., 1.5006e-07, 1.5006e-07, 1.5006e-07],\n",
              "           [1.5006e-07, 1.5006e-07, 1.5006e-07,  ..., 1.5006e-07, 1.5006e-07, 1.5006e-07],\n",
              "           [1.5006e-07, 1.5006e-07, 1.5006e-07,  ..., 1.5006e-07, 1.5006e-07, 1.5006e-07],\n",
              "           ...,\n",
              "           [1.5006e-07, 1.5006e-07, 1.5006e-07,  ..., 1.5006e-07, 1.5006e-07, 1.5006e-07],\n",
              "           [1.5006e-07, 1.5006e-07, 1.5006e-07,  ..., 1.5006e-07, 1.5006e-07, 1.5006e-07],\n",
              "           [1.5006e-07, 1.5006e-07, 1.5006e-07,  ..., 1.5006e-07, 1.5006e-07, 1.5006e-07]],\n",
              " \n",
              "          [[1.5006e-07, 1.5006e-07, 1.5006e-07,  ..., 1.5006e-07, 1.5006e-07, 1.5006e-07],\n",
              "           [1.5006e-07, 1.5006e-07, 1.5006e-07,  ..., 1.5006e-07, 1.5006e-07, 1.5006e-07],\n",
              "           [1.5006e-07, 1.5006e-07, 1.5006e-07,  ..., 1.5006e-07, 1.5006e-07, 1.5006e-07],\n",
              "           ...,\n",
              "           [1.5006e-07, 1.5006e-07, 1.5006e-07,  ..., 1.5006e-07, 1.5006e-07, 1.5006e-07],\n",
              "           [1.5006e-07, 1.5006e-07, 1.5006e-07,  ..., 1.5006e-07, 1.5006e-07, 1.5006e-07],\n",
              "           [1.5006e-07, 1.5006e-07, 1.5006e-07,  ..., 1.5006e-07, 1.5006e-07, 1.5006e-07]]],\n",
              " \n",
              " \n",
              "         [[[1.3491e-07, 1.3491e-07, 1.3491e-07,  ..., 1.3491e-07, 1.3491e-07, 1.3491e-07],\n",
              "           [1.3491e-07, 1.3491e-07, 1.3491e-07,  ..., 1.3491e-07, 1.3491e-07, 1.3491e-07],\n",
              "           [1.3491e-07, 1.3491e-07, 1.3491e-07,  ..., 1.3491e-07, 1.3491e-07, 1.3491e-07],\n",
              "           ...,\n",
              "           [1.3491e-07, 1.3491e-07, 1.3491e-07,  ..., 1.3491e-07, 1.3491e-07, 1.3491e-07],\n",
              "           [1.3491e-07, 1.3491e-07, 1.3491e-07,  ..., 1.3491e-07, 1.3491e-07, 1.3491e-07],\n",
              "           [1.3491e-07, 1.3491e-07, 1.3491e-07,  ..., 1.3491e-07, 1.3491e-07, 1.3491e-07]],\n",
              " \n",
              "          [[1.3491e-07, 1.3491e-07, 1.3491e-07,  ..., 1.3491e-07, 1.3491e-07, 1.3491e-07],\n",
              "           [1.3491e-07, 1.3491e-07, 1.3491e-07,  ..., 1.3491e-07, 1.3491e-07, 1.3491e-07],\n",
              "           [1.3491e-07, 1.3491e-07, 1.3491e-07,  ..., 1.3491e-07, 1.3491e-07, 1.3491e-07],\n",
              "           ...,\n",
              "           [1.3491e-07, 1.3491e-07, 1.3491e-07,  ..., 1.3491e-07, 1.3491e-07, 1.3491e-07],\n",
              "           [1.3491e-07, 1.3491e-07, 1.3491e-07,  ..., 1.3491e-07, 1.3491e-07, 1.3491e-07],\n",
              "           [1.3491e-07, 1.3491e-07, 1.3491e-07,  ..., 1.3491e-07, 1.3491e-07, 1.3491e-07]],\n",
              " \n",
              "          [[1.3491e-07, 1.3491e-07, 1.3491e-07,  ..., 1.3491e-07, 1.3491e-07, 1.3491e-07],\n",
              "           [1.3491e-07, 1.3491e-07, 1.3491e-07,  ..., 1.3491e-07, 1.3491e-07, 1.3491e-07],\n",
              "           [1.3491e-07, 1.3491e-07, 1.3491e-07,  ..., 1.3491e-07, 1.3491e-07, 1.3491e-07],\n",
              "           ...,\n",
              "           [1.3491e-07, 1.3491e-07, 1.3491e-07,  ..., 1.3491e-07, 1.3491e-07, 1.3491e-07],\n",
              "           [1.3491e-07, 1.3491e-07, 1.3491e-07,  ..., 1.3491e-07, 1.3491e-07, 1.3491e-07],\n",
              "           [1.3491e-07, 1.3491e-07, 1.3491e-07,  ..., 1.3491e-07, 1.3491e-07, 1.3491e-07]]],\n",
              " \n",
              " \n",
              "         [[[3.8792e-03, 2.7726e-03, 2.7726e-03,  ..., 7.0619e-08, 7.0619e-08, 7.0619e-08],\n",
              "           [2.8699e-03, 7.5056e-04, 3.6557e-04,  ..., 7.0619e-08, 7.0619e-08, 7.0619e-08],\n",
              "           [2.7726e-03, 2.5276e-04, 7.0619e-08,  ..., 7.0619e-08, 7.0619e-08, 7.0619e-08],\n",
              "           ...,\n",
              "           [7.0619e-08, 7.0619e-08, 7.0619e-08,  ..., 7.0619e-08, 7.0619e-08, 7.0619e-08],\n",
              "           [7.0619e-08, 7.0619e-08, 7.0619e-08,  ..., 7.0619e-08, 7.0619e-08, 7.0619e-08],\n",
              "           [7.0619e-08, 7.0619e-08, 7.0619e-08,  ..., 7.0619e-08, 7.0619e-08, 7.0619e-08]],\n",
              " \n",
              "          [[3.8792e-03, 2.7726e-03, 2.7726e-03,  ..., 7.0619e-08, 7.0619e-08, 7.0619e-08],\n",
              "           [2.8699e-03, 7.5056e-04, 3.6557e-04,  ..., 7.0619e-08, 7.0619e-08, 7.0619e-08],\n",
              "           [2.7726e-03, 2.5276e-04, 7.0619e-08,  ..., 7.0619e-08, 7.0619e-08, 7.0619e-08],\n",
              "           ...,\n",
              "           [7.0619e-08, 7.0619e-08, 7.0619e-08,  ..., 7.0619e-08, 7.0619e-08, 7.0619e-08],\n",
              "           [7.0619e-08, 7.0619e-08, 7.0619e-08,  ..., 7.0619e-08, 7.0619e-08, 7.0619e-08],\n",
              "           [7.0619e-08, 7.0619e-08, 7.0619e-08,  ..., 7.0619e-08, 7.0619e-08, 7.0619e-08]],\n",
              " \n",
              "          [[3.8792e-03, 2.7726e-03, 2.7726e-03,  ..., 7.0619e-08, 7.0619e-08, 7.0619e-08],\n",
              "           [2.8699e-03, 7.5056e-04, 3.6557e-04,  ..., 7.0619e-08, 7.0619e-08, 7.0619e-08],\n",
              "           [2.7726e-03, 2.5276e-04, 7.0619e-08,  ..., 7.0619e-08, 7.0619e-08, 7.0619e-08],\n",
              "           ...,\n",
              "           [7.0619e-08, 7.0619e-08, 7.0619e-08,  ..., 7.0619e-08, 7.0619e-08, 7.0619e-08],\n",
              "           [7.0619e-08, 7.0619e-08, 7.0619e-08,  ..., 7.0619e-08, 7.0619e-08, 7.0619e-08],\n",
              "           [7.0619e-08, 7.0619e-08, 7.0619e-08,  ..., 7.0619e-08, 7.0619e-08, 7.0619e-08]]]], device='cuda:0'),\n",
              " TensorCategory([2, 0, 7, 5, 9, 5, 9, 0, 1, 0, 7, 1, 2, 1, 1, 1, 3, 7, 3, 5, 5, 8, 8, 8, 3, 2, 6, 6, 9, 8, 3, 9, 8, 3, 8, 0, 2, 0, 0, 1, 6, 9, 3, 2, 5, 1, 8, 1, 7, 3, 1, 3, 0, 8, 2, 4, 4, 3, 1, 8, 4, 6, 0, 6],\n",
              "        device='cuda:0'))"
            ]
          },
          "metadata": {
            "tags": []
          },
          "execution_count": 34
        }
      ]
    },
    {
      "cell_type": "code",
      "metadata": {
        "id": "ka-W8G323d3Y"
      },
      "source": [
        ""
      ],
      "execution_count": null,
      "outputs": []
    }
  ]
}